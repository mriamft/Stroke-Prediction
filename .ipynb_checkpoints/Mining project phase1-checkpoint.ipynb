{
 "cells": [
  {
   "cell_type": "markdown",
   "id": "32e29014",
   "metadata": {},
   "source": [
    "## Goal:"
   ]
  },
  {
   "cell_type": "markdown",
   "id": "94100634",
   "metadata": {},
   "source": [
    "The goal of collection this dataset is to analyze it using classification and clustering on the input parameters like gender, age, various diseases, and smoking status in order to predict the likelihood of an individual suffering from a stroke."
   ]
  },
  {
   "cell_type": "markdown",
   "id": "d32e62cd",
   "metadata": {},
   "source": [
    "## Dataset:"
   ]
  },
  {
   "cell_type": "markdown",
   "id": "5ff4b77d",
   "metadata": {},
   "source": [
    "https://www.kaggle.com/datasets/fedesoriano/stroke-prediction-dataset"
   ]
  },
  {
   "cell_type": "code",
   "execution_count": 6,
   "id": "8a69904a",
   "metadata": {},
   "outputs": [
    {
     "name": "stderr",
     "output_type": "stream",
     "text": [
      "Warning message in file(file, \"rt\"):\n",
      "\"cannot open file 'healthcare-dataset-stroke-data.csv': No such file or directory\""
     ]
    },
    {
     "ename": "ERROR",
     "evalue": "Error in file(file, \"rt\"): cannot open the connection\n",
     "output_type": "error",
     "traceback": [
      "Error in file(file, \"rt\"): cannot open the connection\nTraceback:\n",
      "1. read.csv(\"healthcare-dataset-stroke-data.csv\")",
      "2. read.table(file = file, header = header, sep = sep, quote = quote, \n .     dec = dec, fill = fill, comment.char = comment.char, ...)",
      "3. file(file, \"rt\")"
     ]
    }
   ],
   "source": [
    "data<-read.csv(\"healthcare-dataset-stroke-data.csv\")"
   ]
  },
  {
   "cell_type": "markdown",
   "id": "96a74845",
   "metadata": {},
   "source": [
    "## Genral info about the dataset:\n",
    "Among the 5110 objects in our dataset sample, 12 attributes are used to describe them.\n",
    "Our characteristics' values are utilized to identify their types, such as the nominal for id, binary for gender, and numeric for age.  \n",
    "Additionally, we had two attributes for hypertension and heart disease that took two values 1 and 0 to indicate whether they are sufferd from it or not, respectively. The last attribute, **\"stroke\"**, was described by two values 0 and 1 for the possibility of having a stroke or not as a result of analysis of the previous data.\n"
   ]
  },
  {
   "cell_type": "markdown",
   "id": "8682b82b",
   "metadata": {},
   "source": [
    "## Data"
   ]
  },
  {
   "cell_type": "code",
   "execution_count": 5,
   "id": "3fd20bb8",
   "metadata": {},
   "outputs": [
    {
     "name": "stdout",
     "output_type": "stream",
     "text": [
      "function (..., list = character(), package = NULL, lib.loc = NULL, verbose = getOption(\"verbose\"), \n",
      "    envir = .GlobalEnv, overwrite = TRUE)  \n"
     ]
    }
   ],
   "source": [
    "str(data)"
   ]
  },
  {
   "cell_type": "markdown",
   "id": "4ba4bc2e",
   "metadata": {},
   "source": [
    "<table>\n",
    "<tr>\n",
    "    <th>Attribute name</th>\n",
    "    <th>description</th>\n",
    "    <th>Data type</th> \n",
    "    <th>Possiable values</th> \n",
    "</tr>\n",
    "\n",
    "<tr>\n",
    "    <td>id</td> \n",
    "    <td>gender</td> \n",
    "    <td>Replace</td>\n",
    "</tr>\n",
    "\n",
    "<tr>\n",
    "    <td>Replace</td> \n",
    "    <td>Replace</td> \n",
    "    <td>Replace</td>   \n",
    "</tr>\n",
    "\n",
    "</table>"
   ]
  },
  {
   "cell_type": "code",
   "execution_count": null,
   "id": "1d26b698",
   "metadata": {},
   "outputs": [],
   "source": []
  }
 ],
 "metadata": {
  "kernelspec": {
   "display_name": "R",
   "language": "R",
   "name": "ir"
  },
  "language_info": {
   "codemirror_mode": "r",
   "file_extension": ".r",
   "mimetype": "text/x-r-source",
   "name": "R",
   "pygments_lexer": "r",
   "version": "3.6.1"
  }
 },
 "nbformat": 4,
 "nbformat_minor": 5
}
