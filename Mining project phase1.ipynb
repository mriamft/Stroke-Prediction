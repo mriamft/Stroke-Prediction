{
 "cells": [
  {
   "cell_type": "markdown",
   "id": "32e29014",
   "metadata": {},
   "source": [
    "## Goal:"
   ]
  },
  {
   "cell_type": "markdown",
   "id": "94100634",
   "metadata": {},
   "source": [
    "The goal of collection this dataset is to analyze it using classification and clustering on the input parameters like gender, age, various diseases, and smoking status in order to predict the likelihood of an individual suffering from a stroke."
   ]
  },
  {
   "cell_type": "markdown",
   "id": "d32e62cd",
   "metadata": {},
   "source": [
    "## Dataset:"
   ]
  },
  {
   "cell_type": "markdown",
   "id": "5ff4b77d",
   "metadata": {},
   "source": [
    "https://www.kaggle.com/datasets/fedesoriano/stroke-prediction-dataset"
   ]
  },
  {
   "cell_type": "code",
   "execution_count": 56,
   "id": "8a69904a",
   "metadata": {},
   "outputs": [],
   "source": [
    "data<-read.csv(\"./Dataset/healthcare-dataset-stroke-data.csv\")"
   ]
  },
  {
   "cell_type": "markdown",
   "id": "96a74845",
   "metadata": {},
   "source": [
    "## Genral info about the dataset:\n",
    "Among the 5110 objects in our dataset sample, 12 attributes are used to describe them.\n",
    "Our characteristics' values are utilized to identify their types, such as the nominal for id, binary for gender, and numeric for age.  \n",
    "Additionally, we had two attributes for hypertension and heart disease that took two values 1 and 0 to indicate whether they are sufferd from it or not, respectively. The last attribute, **\"stroke\"**, was described by two values 0 and 1 for the possibility of having a stroke or not as a result of analysis of the previous data.\n"
   ]
  },
  {
   "cell_type": "markdown",
   "id": "8682b82b",
   "metadata": {},
   "source": [
    "## Data"
   ]
  },
  {
   "cell_type": "markdown",
   "id": "4ba4bc2e",
   "metadata": {},
   "source": [
    "<table>\n",
    "<tr>\n",
    "    <th>Attribute Name</th>\n",
    "\t<th>Description</th>\n",
    "\t<th>Data Type</th> \n",
    "\t<th>Possible values</th> \n",
    "</tr>\n",
    "\n",
    "<tr>\n",
    "    <td>id</td> \n",
    "    <td>Unique id of the patient</td>\n",
    "\t<td>Nominal</td>\n",
    "\t<td>Range between 67-72940</td>\n",
    "\t\n",
    "</tr>\n",
    "\n",
    "<tr>\n",
    "    <td>gender</td> \n",
    "    <td>Gender of the patient</td>\n",
    "\t<td>Binary</td>\t\n",
    "    <td>Female <br> Male</td>   \n",
    "</tr>\n",
    "\n",
    "<tr>\n",
    "    <td>age</td>\n",
    "    <td>Age of the patient</td>\n",
    "\t<td>Numeric</td>\t\n",
    "    <td>Range between 0.08-82</td>   \n",
    "</tr>\n",
    "\n",
    "<tr>\n",
    "\t<td>hypertension</td>\n",
    "    <td>Hypertension binary feature, 1 means the patient has hypertension, 0 means they do not.</td> \n",
    "\t<td>Binary</td>\n",
    "    <td>0,1</td>   \n",
    "</tr>\n",
    "\n",
    "<tr>\n",
    "\t<td>heart_disease</td>\n",
    "    <td>Heart disease binary feature, 1 means the patient has heart disease, 0 means they do not.</td> \n",
    "\t<td>Binary</td>\n",
    "    <td>0,1</td>   \n",
    "</tr>\n",
    "\n",
    "<tr>\n",
    "\t<td>ever_married</td> \n",
    "    <td>Has the patient ever been married?</td> \n",
    "\t<td>Binary</td>\n",
    "    <td>Yes <br> No</td>   \n",
    "</tr>\n",
    "\n",
    "<tr>\n",
    "    <td>work_type</td> \n",
    "    <td>Work type of the patient</td> \n",
    "\t<td>Nominal</td>\n",
    "    <td>\"Private\" <br> \"Self-employed\" <br>\"children\" <br>\"Govt_job\" <br>\"Never_worked\"</td>\n",
    "    \n",
    "    \n",
    "    \n",
    "    \n",
    "    \n",
    "</tr>\n",
    "\n",
    "<tr>\n",
    "    <td>residence_type</td>\n",
    "    <td>Residence type of the patient</td> \n",
    "\t<td>Binary</td>\n",
    "    <td>\"Urban\" <br> \"Rural\"</td>   \n",
    "</tr>\n",
    "\n",
    "<tr>\n",
    "\t<td>avg_glucose_level</td>\n",
    "    <td>Average glucose level in blood</td> \n",
    "\t<td>Numeric</td>\n",
    "    <td>Range between 55.1-272</td>   \n",
    "</tr>\n",
    "\n",
    "<tr>\n",
    "\t<td>bmi</td>\n",
    "    <td>Body Mass Index</td> \n",
    "\t<td>Numeric</td>\n",
    "    <td>Range in [28.7, 28.4, 27.7, 26.7] </td>   \n",
    "\n",
    "</tr>\n",
    "\n",
    "<tr>\n",
    "\t<td>smoking_status</td>\n",
    "    <td>Smoking status of the patient</td> \n",
    "    <td>Nominal</td>  \n",
    "\t<td>\"never smoked\" <br> \"Unknown\" <br> \"formerly smoked\" <br> \"smokes\"</td>\n",
    "\t\n",
    "</tr>\n",
    "\n",
    "<tr>\n",
    "\t<td>stroke</td>\n",
    "    <td>Stroke event, 1 means the patient had a stroke, 0 means not</td> \n",
    "    <td>Binary</td>  \n",
    "\t<td>0,1</td>\n",
    "\t\n",
    "</tr>\n",
    "\n",
    "</table>"
   ]
  },
  {
   "cell_type": "code",
   "execution_count": 57,
   "id": "3fd20bb8",
   "metadata": {},
   "outputs": [
    {
     "name": "stdout",
     "output_type": "stream",
     "text": [
      "'data.frame':\t5110 obs. of  12 variables:\n",
      " $ id               : int  9046 51676 31112 60182 1665 56669 53882 10434 27419 60491 ...\n",
      " $ gender           : Factor w/ 3 levels \"Female\",\"Male\",..: 2 1 2 1 1 2 2 1 1 1 ...\n",
      " $ age              : num  67 61 80 49 79 81 74 69 59 78 ...\n",
      " $ hypertension     : int  0 0 0 0 1 0 1 0 0 0 ...\n",
      " $ heart_disease    : int  1 0 1 0 0 0 1 0 0 0 ...\n",
      " $ ever_married     : Factor w/ 2 levels \"No\",\"Yes\": 2 2 2 2 2 2 2 1 2 2 ...\n",
      " $ work_type        : Factor w/ 5 levels \"Govt_job\",\"Never_worked\",..: 3 4 3 3 4 3 3 3 3 3 ...\n",
      " $ Residence_type   : Factor w/ 2 levels \"Rural\",\"Urban\": 2 1 1 2 1 2 1 2 1 2 ...\n",
      " $ avg_glucose_level: num  229 202 106 171 174 ...\n",
      " $ bmi              : Factor w/ 419 levels \"10.3\",\"11.3\",..: 240 419 199 218 114 164 148 102 419 116 ...\n",
      " $ smoking_status   : Factor w/ 4 levels \"Unknown\",\"formerly smoked\",..: 2 3 3 4 3 2 3 3 1 1 ...\n",
      " $ stroke           : int  1 1 1 1 1 1 1 1 1 1 ...\n"
     ]
    }
   ],
   "source": [
    "str(data)"
   ]
  }
 ],
 "metadata": {
  "kernelspec": {
   "display_name": "R",
   "language": "R",
   "name": "ir"
  },
  "language_info": {
   "codemirror_mode": "r",
   "file_extension": ".r",
   "mimetype": "text/x-r-source",
   "name": "R",
   "pygments_lexer": "r",
   "version": "3.6.1"
  }
 },
 "nbformat": 4,
 "nbformat_minor": 5
}
