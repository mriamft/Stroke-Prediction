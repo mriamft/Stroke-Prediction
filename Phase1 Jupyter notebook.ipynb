{
 "cells": [
  {
   "cell_type": "markdown",
   "id": "32e29014",
   "metadata": {},
   "source": [
    "## Goal:"
   ]
  },
  {
   "cell_type": "markdown",
   "id": "94100634",
   "metadata": {},
   "source": [
    "The goal of collection this dataset is to analyze it using classification and clustering on the input parameters like gender, age, various diseases, and smoking status in order to predict the likelihood of an individual suffering from a stroke."
   ]
  },
  {
   "cell_type": "markdown",
   "id": "d32e62cd",
   "metadata": {},
   "source": [
    "## Dataset:"
   ]
  },
  {
   "cell_type": "markdown",
   "id": "5ff4b77d",
   "metadata": {},
   "source": [
    "https://www.kaggle.com/datasets/fedesoriano/stroke-prediction-dataset"
   ]
  },
  {
   "cell_type": "code",
   "execution_count": 157,
   "id": "8a69904a",
   "metadata": {},
   "outputs": [],
   "source": [
    "data<-read.csv(\"./Dataset/healthcare-dataset-stroke-data.csv\")"
   ]
  },
  {
   "cell_type": "markdown",
   "id": "96a74845",
   "metadata": {},
   "source": [
    "## Genral info about the dataset:\n",
    "Among the 5110 objects in our dataset sample, 12 attributes are used to describe them.\n",
    "Our characteristics' values are utilized to identify their types, such as the nominal for id, binary for gender, and numeric for age.  \n",
    "Additionally, we had two attributes for hypertension and heart disease that took two values 1 and 0 to indicate whether they are sufferd from it or not, respectively. The last attribute, **\"stroke\"**, was described by two values 0 and 1 for the possibility of having a stroke or not as a result of analysis of the previous data, , which is what we aim to train our model to predict.\n"
   ]
  },
  {
   "cell_type": "markdown",
   "id": "8682b82b",
   "metadata": {},
   "source": [
    "## Data"
   ]
  },
  {
   "cell_type": "markdown",
   "id": "4ba4bc2e",
   "metadata": {},
   "source": [
    "<table>\n",
    "<tr>\n",
    "    <th>Attribute Name</th>\n",
    "\t<th>Description</th>\n",
    "\t<th>Data Type</th> \n",
    "\t<th>Possible values</th> \n",
    "</tr>\n",
    "\n",
    "<tr>\n",
    "    <td>id</td> \n",
    "    <td>Unique id of the patient</td>\n",
    "\t<td>Nominal</td>\n",
    "\t<td>Range between 67-72940</td>\n",
    "\t\n",
    "</tr>\n",
    "\n",
    "<tr>\n",
    "    <td>gender</td> \n",
    "    <td>Gender of the patient</td>\n",
    "\t<td>Binary</td>\t\n",
    "    <td>Female <br> Male</td>   \n",
    "</tr>\n",
    "\n",
    "<tr>\n",
    "    <td>age</td>\n",
    "    <td>Age of the patient</td>\n",
    "\t<td>Numeric</td>\t\n",
    "    <td>Range between 0.08-82</td>   \n",
    "</tr>\n",
    "\n",
    "<tr>\n",
    "\t<td>hypertension</td>\n",
    "    <td>Hypertension binary feature, 1 means the patient has hypertension, 0 means they do not.</td> \n",
    "\t<td>Binary</td>\n",
    "    <td>0,1</td>   \n",
    "</tr>\n",
    "\n",
    "<tr>\n",
    "\t<td>heart_disease</td>\n",
    "    <td>Heart disease binary feature, 1 means the patient has heart disease, 0 means they do not.</td> \n",
    "\t<td>Binary</td>\n",
    "    <td>0,1</td>   \n",
    "</tr>\n",
    "\n",
    "<tr>\n",
    "\t<td>ever_married</td> \n",
    "    <td>Has the patient ever been married?</td> \n",
    "\t<td>Binary</td>\n",
    "    <td>Yes <br> No</td>   \n",
    "</tr>\n",
    "\n",
    "<tr>\n",
    "    <td>work_type</td> \n",
    "    <td>Work type of the patient</td> \n",
    "\t<td>Nominal</td>\n",
    "    <td>\"Private\" <br> \"Self-employed\" <br>\"children\" <br>\"Govt_job\" <br>\"Never_worked\"</td>\n",
    "    \n",
    "    \n",
    "    \n",
    "    \n",
    "    \n",
    "</tr>\n",
    "\n",
    "<tr>\n",
    "    <td>residence_type</td>\n",
    "    <td>Residence type of the patient</td> \n",
    "\t<td>Binary</td>\n",
    "    <td>\"Urban\" <br> \"Rural\"</td>   \n",
    "</tr>\n",
    "\n",
    "<tr>\n",
    "\t<td>avg_glucose_level</td>\n",
    "    <td>Average glucose level in blood</td> \n",
    "\t<td>Numeric</td>\n",
    "    <td>Range between 55.1-272</td>   \n",
    "</tr>\n",
    "\n",
    "<tr>\n",
    "\t<td>bmi</td>\n",
    "    <td>Body Mass Index</td> \n",
    "\t<td>Numeric</td>\n",
    "    <td> Range between 10.3-97.6 </td>   \n",
    "\n",
    "</tr>\n",
    "\n",
    "<tr>\n",
    "\t<td>smoking_status</td>\n",
    "    <td>Smoking status of the patient</td> \n",
    "    <td>Nominal</td>  \n",
    "\t<td>\"never smoked\" <br> \"Unknown\" <br> \"formerly smoked\" <br> \"smokes\"</td>\n",
    "\t\n",
    "</tr>\n",
    "\n",
    "<tr>\n",
    "\t<td>stroke</td>\n",
    "    <td>Stroke event, 1 means the patient had a stroke, 0 means not</td> \n",
    "    <td>Binary</td>  \n",
    "\t<td>0,1</td>\n",
    "\t\n",
    "</tr>\n",
    "\n",
    "</table>"
   ]
  },
  {
   "cell_type": "code",
   "execution_count": 158,
   "id": "3fd20bb8",
   "metadata": {
    "scrolled": false
   },
   "outputs": [
    {
     "name": "stdout",
     "output_type": "stream",
     "text": [
      "'data.frame':\t5110 obs. of  12 variables:\n",
      " $ id               : int  9046 51676 31112 60182 1665 56669 53882 10434 27419 60491 ...\n",
      " $ gender           : Factor w/ 3 levels \"Female\",\"Male\",..: 2 1 2 1 1 2 2 1 1 1 ...\n",
      " $ age              : num  67 61 80 49 79 81 74 69 59 78 ...\n",
      " $ hypertension     : int  0 0 0 0 1 0 1 0 0 0 ...\n",
      " $ heart_disease    : int  1 0 1 0 0 0 1 0 0 0 ...\n",
      " $ ever_married     : Factor w/ 2 levels \"No\",\"Yes\": 2 2 2 2 2 2 2 1 2 2 ...\n",
      " $ work_type        : Factor w/ 5 levels \"children\",\"Govt_job\",..: 4 5 4 4 5 4 4 4 4 4 ...\n",
      " $ Residence_type   : Factor w/ 2 levels \"Rural\",\"Urban\": 2 1 1 2 1 2 1 2 1 2 ...\n",
      " $ avg_glucose_level: num  229 202 106 171 174 ...\n",
      " $ bmi              : Factor w/ 419 levels \"10.3\",\"11.3\",..: 240 419 199 218 114 164 148 102 419 116 ...\n",
      " $ smoking_status   : Factor w/ 4 levels \"formerly smoked\",..: 1 2 2 3 2 1 2 2 4 4 ...\n",
      " $ stroke           : int  1 1 1 1 1 1 1 1 1 1 ...\n"
     ]
    }
   ],
   "source": [
    "str(data)"
   ]
  },
  {
   "cell_type": "code",
   "execution_count": 159,
   "id": "203da233",
   "metadata": {},
   "outputs": [
    {
     "data": {
      "text/html": [
       "5110"
      ],
      "text/latex": [
       "5110"
      ],
      "text/markdown": [
       "5110"
      ],
      "text/plain": [
       "[1] 5110"
      ]
     },
     "metadata": {},
     "output_type": "display_data"
    },
    {
     "data": {
      "text/html": [
       "12"
      ],
      "text/latex": [
       "12"
      ],
      "text/markdown": [
       "12"
      ],
      "text/plain": [
       "[1] 12"
      ]
     },
     "metadata": {},
     "output_type": "display_data"
    }
   ],
   "source": [
    "#Number of rows\n",
    "nrow(data)\n",
    "#Number of column\n",
    "ncol(data)"
   ]
  },
  {
   "cell_type": "code",
   "execution_count": 160,
   "id": "3e789e0a",
   "metadata": {},
   "outputs": [],
   "source": [
    "library(tidyverse)\n",
    "library(lubridate)\n",
    "library(magrittr)\n",
    "library(dplyr)\n",
    "library(tidyr)\n",
    "library(readr)\n",
    "library(ggplot2)\n",
    "library(outliers)\n",
    "library(caret)"
   ]
  },
  {
   "cell_type": "code",
   "execution_count": 161,
   "id": "f2ce2dc1",
   "metadata": {},
   "outputs": [
    {
     "data": {
      "text/html": [
       "0.238171114101743"
      ],
      "text/latex": [
       "0.238171114101743"
      ],
      "text/markdown": [
       "0.238171114101743"
      ],
      "text/plain": [
       "[1] 0.2381711"
      ]
     },
     "metadata": {},
     "output_type": "display_data"
    }
   ],
   "source": [
    "cor(data$age,data$avg_glucose_level)"
   ]
  },
  {
   "cell_type": "code",
   "execution_count": 162,
   "id": "78a62512",
   "metadata": {
    "scrolled": true
   },
   "outputs": [
    {
     "ename": "ERROR",
     "evalue": "Error in library(Hmisc): there is no package called 'Hmisc'\n",
     "output_type": "error",
     "traceback": [
      "Error in library(Hmisc): there is no package called 'Hmisc'\nTraceback:\n",
      "1. library(Hmisc)"
     ]
    }
   ],
   "source": [
    "library(Hmisc)\n",
    "describe(data)"
   ]
  },
  {
   "cell_type": "code",
   "execution_count": 163,
   "id": "1102a97f",
   "metadata": {},
   "outputs": [
    {
     "data": {
      "text/plain": [
       "       id           gender          age         hypertension    \n",
       " Min.   :   67   Female:2994   Min.   : 0.08   Min.   :0.00000  \n",
       " 1st Qu.:17741   Male  :2115   1st Qu.:25.00   1st Qu.:0.00000  \n",
       " Median :36932   Other :   1   Median :45.00   Median :0.00000  \n",
       " Mean   :36518                 Mean   :43.23   Mean   :0.09746  \n",
       " 3rd Qu.:54682                 3rd Qu.:61.00   3rd Qu.:0.00000  \n",
       " Max.   :72940                 Max.   :82.00   Max.   :1.00000  \n",
       "                                                                \n",
       " heart_disease     ever_married         work_type    Residence_type\n",
       " Min.   :0.00000   No :1757     children     : 687   Rural:2514    \n",
       " 1st Qu.:0.00000   Yes:3353     Govt_job     : 657   Urban:2596    \n",
       " Median :0.00000                Never_worked :  22                 \n",
       " Mean   :0.05401                Private      :2925                 \n",
       " 3rd Qu.:0.00000                Self-employed: 819                 \n",
       " Max.   :1.00000                                                   \n",
       "                                                                   \n",
       " avg_glucose_level      bmi               smoking_status     stroke       \n",
       " Min.   : 55.12    N/A    : 201   formerly smoked: 885   Min.   :0.00000  \n",
       " 1st Qu.: 77.25    28.7   :  41   never smoked   :1892   1st Qu.:0.00000  \n",
       " Median : 91.89    28.4   :  38   smokes         : 789   Median :0.00000  \n",
       " Mean   :106.15    26.1   :  37   Unknown        :1544   Mean   :0.04873  \n",
       " 3rd Qu.:114.09    26.7   :  37                          3rd Qu.:0.00000  \n",
       " Max.   :271.74    27.6   :  37                          Max.   :1.00000  \n",
       "                   (Other):4719                                           "
      ]
     },
     "metadata": {},
     "output_type": "display_data"
    }
   ],
   "source": [
    "#Five number summary:\n",
    "summary(data)"
   ]
  },
  {
   "cell_type": "code",
   "execution_count": 164,
   "id": "a66c87ed",
   "metadata": {},
   "outputs": [
    {
     "data": {
      "text/html": [
       "<table>\n",
       "<thead><tr><th scope=col>id</th><th scope=col>age</th><th scope=col>hypertension</th><th scope=col>heart_disease</th><th scope=col>avg_glucose_level</th><th scope=col>stroke</th></tr></thead>\n",
       "<tbody>\n",
       "\t<tr><td>447818462 </td><td>511.3318  </td><td>0.08797552</td><td>0.05110447</td><td>2050.601  </td><td>0.04636264</td></tr>\n",
       "</tbody>\n",
       "</table>\n"
      ],
      "text/latex": [
       "\\begin{tabular}{r|llllll}\n",
       " id & age & hypertension & heart\\_disease & avg\\_glucose\\_level & stroke\\\\\n",
       "\\hline\n",
       "\t 447818462  & 511.3318   & 0.08797552 & 0.05110447 & 2050.601   & 0.04636264\\\\\n",
       "\\end{tabular}\n"
      ],
      "text/markdown": [
       "\n",
       "| id | age | hypertension | heart_disease | avg_glucose_level | stroke |\n",
       "|---|---|---|---|---|---|\n",
       "| 447818462  | 511.3318   | 0.08797552 | 0.05110447 | 2050.601   | 0.04636264 |\n",
       "\n"
      ],
      "text/plain": [
       "  id        age      hypertension heart_disease avg_glucose_level stroke    \n",
       "1 447818462 511.3318 0.08797552   0.05110447    2050.601          0.04636264"
      ]
     },
     "metadata": {},
     "output_type": "display_data"
    }
   ],
   "source": [
    "library(dplyr)\n",
    "data %>% summarise_if(is.numeric, var)"
   ]
  },
  {
   "cell_type": "markdown",
   "id": "b7c234fe",
   "metadata": {},
   "source": [
    "## Understanding the data through graph representations"
   ]
  },
  {
   "cell_type": "code",
   "execution_count": 165,
   "id": "abc86869",
   "metadata": {},
   "outputs": [
    {
     "data": {
      "image/png": "[encoded data removed]",
      "text/plain": [
       "plot without title"
      ]
     },
     "metadata": {},
     "output_type": "display_data"
    }
   ],
   "source": [
    "# check gender\n",
    "data <- data %>% filter(gender != \"Other\")\n",
    "ggplot(data, aes(x = gender, fill = as.factor(stroke))) +\n",
    "  geom_bar(position = \"fill\") +\n",
    "  labs(fill = \"STROKE\")"
   ]
  },
  {
   "cell_type": "code",
   "execution_count": 176,
   "id": "982fac96",
   "metadata": {},
   "outputs": [
    {
     "data": {
      "image/png": "[encoded data removed]",
      "text/plain": [
       "Plot with title \"Chart of employement status\""
      ]
     },
     "metadata": {},
     "output_type": "display_data"
    }
   ],
   "source": [
    "tab <- data$work_type %>% table()\n",
    "precentages <- tab %>% prop.table() %>% round(3) * 100 \n",
    "txt <- paste0(names(tab), '\\n', precentages, '%') # text on chart\n",
    "pie(tab, labels=txt ,main= \"Chart of employement status\") # plot pie chart"
   ]
  },
  {
   "cell_type": "code",
   "execution_count": 166,
   "id": "ae622eb2",
   "metadata": {},
   "outputs": [
    {
     "data": {
      "image/png": "[encoded data removed]",
      "text/plain": [
       "Plot with title \"Histogram of data$age\""
      ]
     },
     "metadata": {},
     "output_type": "display_data"
    }
   ],
   "source": [
    "hist(data$age)"
   ]
  },
  {
   "cell_type": "code",
   "execution_count": 167,
   "id": "52f07d71",
   "metadata": {},
   "outputs": [
    {
     "data": {
      "image/png": "[encoded data removed]",
      "text/plain": [
       "plot without title"
      ]
     },
     "metadata": {},
     "output_type": "display_data"
    }
   ],
   "source": [
    "ggplot(data) + geom_density(mapping = aes(x = age, fill = stroke, color = stroke ), alpha =0.5 )+ \n",
    "  theme(  axis.ticks = element_blank(), panel.grid = element_blank(), ) + \n",
    "  labs(title = \"Distribution of Stroke status by age\") +\n",
    "  theme( plot.title = element_text(size = 14, face = \"bold\"), axis.line = element_line(size = 1), axis.ticks = element_line() )"
   ]
  },
  {
   "cell_type": "markdown",
   "id": "68ab32f8",
   "metadata": {},
   "source": [
    "## Preprocessing:"
   ]
  },
  {
   "cell_type": "code",
   "execution_count": 168,
   "id": "00e022f6",
   "metadata": {},
   "outputs": [],
   "source": [
    "# Change \"N/A\" to actual NULL\n",
    "data$bmi[data$bmi==\"N/A\"] <-NA"
   ]
  },
  {
   "cell_type": "code",
   "execution_count": 169,
   "id": "886ba1f2",
   "metadata": {},
   "outputs": [
    {
     "data": {
      "text/html": [
       "201"
      ],
      "text/latex": [
       "201"
      ],
      "text/markdown": [
       "201"
      ],
      "text/plain": [
       "[1] 201"
      ]
     },
     "metadata": {},
     "output_type": "display_data"
    }
   ],
   "source": [
    "#Checking missing values\n",
    "sum(is.na(data))"
   ]
  },
  {
   "cell_type": "code",
   "execution_count": 170,
   "id": "9a8cc69f",
   "metadata": {},
   "outputs": [
    {
     "data": {
      "text/html": [
       "0"
      ],
      "text/latex": [
       "0"
      ],
      "text/markdown": [
       "0"
      ],
      "text/plain": [
       "[1] 0"
      ]
     },
     "metadata": {},
     "output_type": "display_data"
    }
   ],
   "source": [
    "#Checking duplicated rows\n",
    "sum(duplicated(data))"
   ]
  },
  {
   "cell_type": "code",
   "execution_count": 171,
   "id": "8bde3881",
   "metadata": {},
   "outputs": [],
   "source": [
    "#Converting bmi to numeric\n",
    "data$bmi <- as.numeric(data$bmi)"
   ]
  },
  {
   "cell_type": "code",
   "execution_count": 172,
   "id": "6e8fbb04",
   "metadata": {},
   "outputs": [],
   "source": [
    "#Replacing null values with the mean\n",
    "data$bmi[is.na(data$bmi)]<-mean(data$bmi, na.rm = TRUE)"
   ]
  },
  {
   "cell_type": "code",
   "execution_count": 173,
   "id": "4d07dd75",
   "metadata": {},
   "outputs": [
    {
     "data": {
      "text/html": [
       "0"
      ],
      "text/latex": [
       "0"
      ],
      "text/markdown": [
       "0"
      ],
      "text/plain": [
       "[1] 0"
      ]
     },
     "metadata": {},
     "output_type": "display_data"
    }
   ],
   "source": [
    "#Missing values\n",
    "sum(is.na(data))"
   ]
  },
  {
   "cell_type": "code",
   "execution_count": 174,
   "id": "1c9e7c55",
   "metadata": {},
   "outputs": [
    {
     "data": {
      "text/html": [
       "<table>\n",
       "<thead><tr><th scope=col>id</th><th scope=col>gender</th><th scope=col>age</th><th scope=col>hypertension</th><th scope=col>heart_disease</th><th scope=col>ever_married</th><th scope=col>work_type</th><th scope=col>Residence_type</th><th scope=col>avg_glucose_level</th><th scope=col>bmi</th><th scope=col>smoking_status</th><th scope=col>stroke</th></tr></thead>\n",
       "<tbody>\n",
       "</tbody>\n",
       "</table>\n"
      ],
      "text/latex": [
       "\\begin{tabular}{r|llllllllllll}\n",
       " id & gender & age & hypertension & heart\\_disease & ever\\_married & work\\_type & Residence\\_type & avg\\_glucose\\_level & bmi & smoking\\_status & stroke\\\\\n",
       "\\hline\n",
       "\\end{tabular}\n"
      ],
      "text/markdown": [
       "\n",
       "| id | gender | age | hypertension | heart_disease | ever_married | work_type | Residence_type | avg_glucose_level | bmi | smoking_status | stroke |\n",
       "|---|---|---|---|---|---|---|---|---|---|---|---|\n",
       "\n"
      ],
      "text/plain": [
       "     id gender age hypertension heart_disease ever_married work_type\n",
       "     Residence_type avg_glucose_level bmi smoking_status stroke"
      ]
     },
     "metadata": {},
     "output_type": "display_data"
    }
   ],
   "source": [
    "#only one column with Gender \"Other\" \n",
    "data[data$gender==\"Other\", ]\n",
    "\n",
    "# delete it \n",
    "data = data[data$gender!=\"Other\", ]"
   ]
  },
  {
   "cell_type": "code",
   "execution_count": 175,
   "id": "da84de1d",
   "metadata": {},
   "outputs": [
    {
     "data": {
      "text/plain": [
       "\n",
       "Female   Male  Other \n",
       "  2994   2115      0 "
      ]
     },
     "metadata": {},
     "output_type": "display_data"
    }
   ],
   "source": [
    "table(data$gender)"
   ]
  },
  {
   "cell_type": "code",
   "execution_count": 177,
   "id": "aaf13c6a",
   "metadata": {},
   "outputs": [
    {
     "data": {
      "text/html": [
       "2"
      ],
      "text/latex": [
       "2"
      ],
      "text/markdown": [
       "2"
      ],
      "text/plain": [
       "[1] 2"
      ]
     },
     "metadata": {},
     "output_type": "display_data"
    },
    {
     "data": {
      "image/png": "[encoded data removed]",
      "text/plain": [
       "Plot with title \"Average age\""
      ]
     },
     "metadata": {},
     "output_type": "display_data"
    }
   ],
   "source": [
    "OutAge = outlier(data$age, logical =TRUE)\n",
    "sum(OutAge)\n",
    "boxplot(data$age,main=\"Average age\")"
   ]
  },
  {
   "cell_type": "code",
   "execution_count": 178,
   "id": "643e6243",
   "metadata": {},
   "outputs": [
    {
     "data": {
      "text/html": [
       "1"
      ],
      "text/latex": [
       "1"
      ],
      "text/markdown": [
       "1"
      ],
      "text/plain": [
       "[1] 1"
      ]
     },
     "metadata": {},
     "output_type": "display_data"
    },
    {
     "data": {
      "image/png": "[encoded data removed]",
      "text/plain": [
       "Plot with title \"Average Glucose Level\""
      ]
     },
     "metadata": {},
     "output_type": "display_data"
    }
   ],
   "source": [
    "OutAvgGlucLevel = outlier(data$avg_glucose_level, logical =TRUE)\n",
    "sum(OutAvgGlucLevel)\n",
    "boxplot(data$avg_glucose_level,main=\"Average Glucose Level\")"
   ]
  },
  {
   "cell_type": "code",
   "execution_count": 179,
   "id": "6fdeb99f",
   "metadata": {},
   "outputs": [
    {
     "data": {
      "text/html": [
       "1"
      ],
      "text/latex": [
       "1"
      ],
      "text/markdown": [
       "1"
      ],
      "text/plain": [
       "[1] 1"
      ]
     },
     "metadata": {},
     "output_type": "display_data"
    },
    {
     "data": {
      "image/png": "[encoded data removed]",
      "text/plain": [
       "Plot with title \"Average bmi Level\""
      ]
     },
     "metadata": {},
     "output_type": "display_data"
    }
   ],
   "source": [
    "OutBMI = outlier(data$bmi, logical =TRUE)\n",
    "sum(OutBMI)\n",
    "boxplot(data$bmi,main=\"Average bmi Level\")"
   ]
  },
  {
   "cell_type": "markdown",
   "id": "13428f01",
   "metadata": {},
   "source": [
    "## Encoding categorical data:"
   ]
  },
  {
   "cell_type": "code",
   "execution_count": 180,
   "id": "0504a53f",
   "metadata": {
    "scrolled": true
   },
   "outputs": [
    {
     "data": {
      "text/html": [
       "<table>\n",
       "<thead><tr><th scope=col>id</th><th scope=col>gender</th><th scope=col>age</th><th scope=col>hypertension</th><th scope=col>heart_disease</th><th scope=col>ever_married</th><th scope=col>work_type</th><th scope=col>Residence_type</th><th scope=col>avg_glucose_level</th><th scope=col>bmi</th><th scope=col>smoking_status</th><th scope=col>stroke</th></tr></thead>\n",
       "<tbody>\n",
       "\t<tr><td> 9046          </td><td>Male           </td><td>67             </td><td>0              </td><td>1              </td><td>Yes            </td><td>Private        </td><td>Urban          </td><td>228.69         </td><td>240.0000       </td><td>formerly smoked</td><td>1              </td></tr>\n",
       "\t<tr><td>51676          </td><td>Female         </td><td>61             </td><td>0              </td><td>0              </td><td>Yes            </td><td>Self-employed  </td><td>Rural          </td><td>202.21         </td><td>162.1021       </td><td>never smoked   </td><td>1              </td></tr>\n",
       "\t<tr><td>31112          </td><td>Male           </td><td>80             </td><td>0              </td><td>1              </td><td>Yes            </td><td>Private        </td><td>Rural          </td><td>105.92         </td><td>199.0000       </td><td>never smoked   </td><td>1              </td></tr>\n",
       "\t<tr><td>60182          </td><td>Female         </td><td>49             </td><td>0              </td><td>0              </td><td>Yes            </td><td>Private        </td><td>Urban          </td><td>171.23         </td><td>218.0000       </td><td>smokes         </td><td>1              </td></tr>\n",
       "\t<tr><td> 1665          </td><td>Female         </td><td>79             </td><td>1              </td><td>0              </td><td>Yes            </td><td>Self-employed  </td><td>Rural          </td><td>174.12         </td><td>114.0000       </td><td>never smoked   </td><td>1              </td></tr>\n",
       "\t<tr><td>56669          </td><td>Male           </td><td>81             </td><td>0              </td><td>0              </td><td>Yes            </td><td>Private        </td><td>Urban          </td><td>186.21         </td><td>164.0000       </td><td>formerly smoked</td><td>1              </td></tr>\n",
       "</tbody>\n",
       "</table>\n"
      ],
      "text/latex": [
       "\\begin{tabular}{r|llllllllllll}\n",
       " id & gender & age & hypertension & heart\\_disease & ever\\_married & work\\_type & Residence\\_type & avg\\_glucose\\_level & bmi & smoking\\_status & stroke\\\\\n",
       "\\hline\n",
       "\t  9046           & Male            & 67              & 0               & 1               & Yes             & Private         & Urban           & 228.69          & 240.0000        & formerly smoked & 1              \\\\\n",
       "\t 51676           & Female          & 61              & 0               & 0               & Yes             & Self-employed   & Rural           & 202.21          & 162.1021        & never smoked    & 1              \\\\\n",
       "\t 31112           & Male            & 80              & 0               & 1               & Yes             & Private         & Rural           & 105.92          & 199.0000        & never smoked    & 1              \\\\\n",
       "\t 60182           & Female          & 49              & 0               & 0               & Yes             & Private         & Urban           & 171.23          & 218.0000        & smokes          & 1              \\\\\n",
       "\t  1665           & Female          & 79              & 1               & 0               & Yes             & Self-employed   & Rural           & 174.12          & 114.0000        & never smoked    & 1              \\\\\n",
       "\t 56669           & Male            & 81              & 0               & 0               & Yes             & Private         & Urban           & 186.21          & 164.0000        & formerly smoked & 1              \\\\\n",
       "\\end{tabular}\n"
      ],
      "text/markdown": [
       "\n",
       "| id | gender | age | hypertension | heart_disease | ever_married | work_type | Residence_type | avg_glucose_level | bmi | smoking_status | stroke |\n",
       "|---|---|---|---|---|---|---|---|---|---|---|---|\n",
       "|  9046           | Male            | 67              | 0               | 1               | Yes             | Private         | Urban           | 228.69          | 240.0000        | formerly smoked | 1               |\n",
       "| 51676           | Female          | 61              | 0               | 0               | Yes             | Self-employed   | Rural           | 202.21          | 162.1021        | never smoked    | 1               |\n",
       "| 31112           | Male            | 80              | 0               | 1               | Yes             | Private         | Rural           | 105.92          | 199.0000        | never smoked    | 1               |\n",
       "| 60182           | Female          | 49              | 0               | 0               | Yes             | Private         | Urban           | 171.23          | 218.0000        | smokes          | 1               |\n",
       "|  1665           | Female          | 79              | 1               | 0               | Yes             | Self-employed   | Rural           | 174.12          | 114.0000        | never smoked    | 1               |\n",
       "| 56669           | Male            | 81              | 0               | 0               | Yes             | Private         | Urban           | 186.21          | 164.0000        | formerly smoked | 1               |\n",
       "\n"
      ],
      "text/plain": [
       "  id    gender age hypertension heart_disease ever_married work_type    \n",
       "1  9046 Male   67  0            1             Yes          Private      \n",
       "2 51676 Female 61  0            0             Yes          Self-employed\n",
       "3 31112 Male   80  0            1             Yes          Private      \n",
       "4 60182 Female 49  0            0             Yes          Private      \n",
       "5  1665 Female 79  1            0             Yes          Self-employed\n",
       "6 56669 Male   81  0            0             Yes          Private      \n",
       "  Residence_type avg_glucose_level bmi      smoking_status  stroke\n",
       "1 Urban          228.69            240.0000 formerly smoked 1     \n",
       "2 Rural          202.21            162.1021 never smoked    1     \n",
       "3 Rural          105.92            199.0000 never smoked    1     \n",
       "4 Urban          171.23            218.0000 smokes          1     \n",
       "5 Rural          174.12            114.0000 never smoked    1     \n",
       "6 Urban          186.21            164.0000 formerly smoked 1     "
      ]
     },
     "metadata": {},
     "output_type": "display_data"
    }
   ],
   "source": [
    "head(data)"
   ]
  },
  {
   "cell_type": "code",
   "execution_count": 181,
   "id": "8b62edba",
   "metadata": {},
   "outputs": [],
   "source": [
    "data$work_type = factor(data$work_type,levels = c(\"Govt_job\",\"Private\", \"Self-employed\"\n",
    ",\"children\",\"Never_worked\"), labels = c(5,4,3,2,1))"
   ]
  },
  {
   "cell_type": "code",
   "execution_count": 182,
   "id": "902499b7",
   "metadata": {},
   "outputs": [],
   "source": [
    "data$gender = factor(data$gender, levels = c(\"Male\", \"Female\"), labels = c(1, 2))"
   ]
  },
  {
   "cell_type": "code",
   "execution_count": 183,
   "id": "30b6dc3f",
   "metadata": {},
   "outputs": [],
   "source": [
    "data$ever_married= factor(data$ever_married, levels = c(\"No\", \"Yes\"), labels = c(0, 1))"
   ]
  },
  {
   "cell_type": "code",
   "execution_count": 184,
   "id": "09aa18c2",
   "metadata": {},
   "outputs": [],
   "source": [
    "data$Residence_type= factor(data$Residence_type, levels = c(\"Urban\", \"Rural\"), labels = c(1, 2))"
   ]
  },
  {
   "cell_type": "code",
   "execution_count": 185,
   "id": "673ee11f",
   "metadata": {},
   "outputs": [],
   "source": [
    "data$smoking_status= factor(data$smoking_status, levels = c(\"Unknown\",\"never smoked\", \"formerly smoked\",\"smokes\"), labels = c(1,2,3,4))"
   ]
  },
  {
   "cell_type": "code",
   "execution_count": 186,
   "id": "86c3604f",
   "metadata": {},
   "outputs": [
    {
     "data": {
      "text/html": [
       "<table>\n",
       "<thead><tr><th scope=col>id</th><th scope=col>gender</th><th scope=col>age</th><th scope=col>hypertension</th><th scope=col>heart_disease</th><th scope=col>ever_married</th><th scope=col>work_type</th><th scope=col>Residence_type</th><th scope=col>avg_glucose_level</th><th scope=col>bmi</th><th scope=col>smoking_status</th><th scope=col>stroke</th></tr></thead>\n",
       "<tbody>\n",
       "\t<tr><td> 9046   </td><td>1       </td><td>67      </td><td>0       </td><td>1       </td><td>1       </td><td>4       </td><td>1       </td><td>228.69  </td><td>240.0000</td><td>3       </td><td>1       </td></tr>\n",
       "\t<tr><td>51676   </td><td>2       </td><td>61      </td><td>0       </td><td>0       </td><td>1       </td><td>3       </td><td>2       </td><td>202.21  </td><td>162.1021</td><td>2       </td><td>1       </td></tr>\n",
       "\t<tr><td>31112   </td><td>1       </td><td>80      </td><td>0       </td><td>1       </td><td>1       </td><td>4       </td><td>2       </td><td>105.92  </td><td>199.0000</td><td>2       </td><td>1       </td></tr>\n",
       "\t<tr><td>60182   </td><td>2       </td><td>49      </td><td>0       </td><td>0       </td><td>1       </td><td>4       </td><td>1       </td><td>171.23  </td><td>218.0000</td><td>4       </td><td>1       </td></tr>\n",
       "\t<tr><td> 1665   </td><td>2       </td><td>79      </td><td>1       </td><td>0       </td><td>1       </td><td>3       </td><td>2       </td><td>174.12  </td><td>114.0000</td><td>2       </td><td>1       </td></tr>\n",
       "\t<tr><td>56669   </td><td>1       </td><td>81      </td><td>0       </td><td>0       </td><td>1       </td><td>4       </td><td>1       </td><td>186.21  </td><td>164.0000</td><td>3       </td><td>1       </td></tr>\n",
       "</tbody>\n",
       "</table>\n"
      ],
      "text/latex": [
       "\\begin{tabular}{r|llllllllllll}\n",
       " id & gender & age & hypertension & heart\\_disease & ever\\_married & work\\_type & Residence\\_type & avg\\_glucose\\_level & bmi & smoking\\_status & stroke\\\\\n",
       "\\hline\n",
       "\t  9046    & 1        & 67       & 0        & 1        & 1        & 4        & 1        & 228.69   & 240.0000 & 3        & 1       \\\\\n",
       "\t 51676    & 2        & 61       & 0        & 0        & 1        & 3        & 2        & 202.21   & 162.1021 & 2        & 1       \\\\\n",
       "\t 31112    & 1        & 80       & 0        & 1        & 1        & 4        & 2        & 105.92   & 199.0000 & 2        & 1       \\\\\n",
       "\t 60182    & 2        & 49       & 0        & 0        & 1        & 4        & 1        & 171.23   & 218.0000 & 4        & 1       \\\\\n",
       "\t  1665    & 2        & 79       & 1        & 0        & 1        & 3        & 2        & 174.12   & 114.0000 & 2        & 1       \\\\\n",
       "\t 56669    & 1        & 81       & 0        & 0        & 1        & 4        & 1        & 186.21   & 164.0000 & 3        & 1       \\\\\n",
       "\\end{tabular}\n"
      ],
      "text/markdown": [
       "\n",
       "| id | gender | age | hypertension | heart_disease | ever_married | work_type | Residence_type | avg_glucose_level | bmi | smoking_status | stroke |\n",
       "|---|---|---|---|---|---|---|---|---|---|---|---|\n",
       "|  9046    | 1        | 67       | 0        | 1        | 1        | 4        | 1        | 228.69   | 240.0000 | 3        | 1        |\n",
       "| 51676    | 2        | 61       | 0        | 0        | 1        | 3        | 2        | 202.21   | 162.1021 | 2        | 1        |\n",
       "| 31112    | 1        | 80       | 0        | 1        | 1        | 4        | 2        | 105.92   | 199.0000 | 2        | 1        |\n",
       "| 60182    | 2        | 49       | 0        | 0        | 1        | 4        | 1        | 171.23   | 218.0000 | 4        | 1        |\n",
       "|  1665    | 2        | 79       | 1        | 0        | 1        | 3        | 2        | 174.12   | 114.0000 | 2        | 1        |\n",
       "| 56669    | 1        | 81       | 0        | 0        | 1        | 4        | 1        | 186.21   | 164.0000 | 3        | 1        |\n",
       "\n"
      ],
      "text/plain": [
       "  id    gender age hypertension heart_disease ever_married work_type\n",
       "1  9046 1      67  0            1             1            4        \n",
       "2 51676 2      61  0            0             1            3        \n",
       "3 31112 1      80  0            1             1            4        \n",
       "4 60182 2      49  0            0             1            4        \n",
       "5  1665 2      79  1            0             1            3        \n",
       "6 56669 1      81  0            0             1            4        \n",
       "  Residence_type avg_glucose_level bmi      smoking_status stroke\n",
       "1 1              228.69            240.0000 3              1     \n",
       "2 2              202.21            162.1021 2              1     \n",
       "3 2              105.92            199.0000 2              1     \n",
       "4 1              171.23            218.0000 4              1     \n",
       "5 2              174.12            114.0000 2              1     \n",
       "6 1              186.21            164.0000 3              1     "
      ]
     },
     "metadata": {},
     "output_type": "display_data"
    }
   ],
   "source": [
    "head(data)"
   ]
  },
  {
   "cell_type": "markdown",
   "id": "71c48d00",
   "metadata": {},
   "source": [
    " ## Normalize Data using Min-Max Scaling:\n",
    " "
   ]
  },
  {
   "cell_type": "code",
   "execution_count": null,
   "id": "3fc021ce",
   "metadata": {},
   "outputs": [],
   "source": []
  }
 ],
 "metadata": {
  "kernelspec": {
   "display_name": "R",
   "language": "R",
   "name": "ir"
  },
  "language_info": {
   "codemirror_mode": "r",
   "file_extension": ".r",
   "mimetype": "text/x-r-source",
   "name": "R",
   "pygments_lexer": "r",
   "version": "3.6.1"
  }
 },
 "nbformat": 4,
 "nbformat_minor": 5
}
