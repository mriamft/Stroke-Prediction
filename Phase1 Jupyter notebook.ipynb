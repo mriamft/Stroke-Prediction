{
 "cells": [
  {
   "cell_type": "markdown",
   "id": "32e29014",
   "metadata": {},
   "source": [
    "# 1- Problem:"
   ]
  },
  {
   "cell_type": "markdown",
   "id": "94100634",
   "metadata": {},
   "source": [
    "Stroke is the second-leading cause of death and the most common global cause of disability. WHO estimates that 1 in 4 persons may experience a stroke during their lifetime; because strokes can occur at any time and to anyone, regardless of age, we have chosen to concentrate on this dataset. Given the sudden nature of strokes, we intend to investigate and analyze the data to provide predictions on what are some risk factors and shed light on the types of people who are likely to experience one, allowing for future changes in lives. This dataset is used to predict whether a patient is likely to get stroke based on the input parameters like gender, age,bmi, various diseases such as hypertension and heart disease, smoking status,marital  status and residence type. Each row in the data provides relavant information about the patient.\n"
   ]
  },
  {
   "cell_type": "markdown",
   "id": "d8fc92f7",
   "metadata": {},
   "source": [
    "# 2- Data mining task:\n"
   ]
  },
  {
   "cell_type": "markdown",
   "id": "6a17766b",
   "metadata": {},
   "source": [
    "Data mining plays a crucial role in predicting the probability of having a stroke through classification and clustering techniques. By applying data mining algorithms to a large dataset containing various health-related features, valuable patterns and relationships can be discovered. In the classification aspect, data mining aids in building models that can accurately classify individuals into different categories, such as 1 for \"stroke\" or 0 for \"non-stroke,\" based on their attributes and risk factors. This helps in identifying individuals who are more likely to experience a stroke, enabling proactive interventions and preventive measures. On the other hand, clustering techniques assist in identifying groups or clusters of individuals with similar characteristics, allowing for a deeper understanding of stroke risk factors and potential subgroups within the population. By leveraging data mining in stroke prediction, healthcare professionals and researchers can gain valuable insights and develop effective strategies for stroke prevention, early detection, and personalized treatments."
   ]
  },
  {
   "cell_type": "markdown",
   "id": "d32e62cd",
   "metadata": {},
   "source": [
    "# 3- Dataset information:"
   ]
  },
  {
   "cell_type": "markdown",
   "id": "5ff4b77d",
   "metadata": {},
   "source": [
    "our source is : https://www.kaggle.com/datasets/fedesoriano/stroke-prediction-dataset"
   ]
  },
  {
   "cell_type": "code",
   "execution_count": 1,
   "id": "8a69904a",
   "metadata": {},
   "outputs": [],
   "source": [
    "data<-read.csv(\"./Dataset/healthcare-dataset-stroke-data.csv\")"
   ]
  },
  {
   "cell_type": "code",
   "execution_count": 2,
   "id": "64b07a74",
   "metadata": {},
   "outputs": [
    {
     "data": {
      "text/html": [
       "<table>\n",
       "<thead><tr><th scope=col>id</th><th scope=col>gender</th><th scope=col>age</th><th scope=col>hypertension</th><th scope=col>heart_disease</th><th scope=col>ever_married</th><th scope=col>work_type</th><th scope=col>Residence_type</th><th scope=col>avg_glucose_level</th><th scope=col>bmi</th><th scope=col>smoking_status</th><th scope=col>stroke</th></tr></thead>\n",
       "<tbody>\n",
       "\t<tr><td> 9046          </td><td>Male           </td><td>67             </td><td>0              </td><td>1              </td><td>Yes            </td><td>Private        </td><td>Urban          </td><td>228.69         </td><td>36.6           </td><td>formerly smoked</td><td>1              </td></tr>\n",
       "\t<tr><td>51676          </td><td>Female         </td><td>61             </td><td>0              </td><td>0              </td><td>Yes            </td><td>Self-employed  </td><td>Rural          </td><td>202.21         </td><td>N/A            </td><td>never smoked   </td><td>1              </td></tr>\n",
       "\t<tr><td>31112          </td><td>Male           </td><td>80             </td><td>0              </td><td>1              </td><td>Yes            </td><td>Private        </td><td>Rural          </td><td>105.92         </td><td>32.5           </td><td>never smoked   </td><td>1              </td></tr>\n",
       "\t<tr><td>60182          </td><td>Female         </td><td>49             </td><td>0              </td><td>0              </td><td>Yes            </td><td>Private        </td><td>Urban          </td><td>171.23         </td><td>34.4           </td><td>smokes         </td><td>1              </td></tr>\n",
       "\t<tr><td> 1665          </td><td>Female         </td><td>79             </td><td>1              </td><td>0              </td><td>Yes            </td><td>Self-employed  </td><td>Rural          </td><td>174.12         </td><td>24             </td><td>never smoked   </td><td>1              </td></tr>\n",
       "\t<tr><td>56669          </td><td>Male           </td><td>81             </td><td>0              </td><td>0              </td><td>Yes            </td><td>Private        </td><td>Urban          </td><td>186.21         </td><td>29             </td><td>formerly smoked</td><td>1              </td></tr>\n",
       "</tbody>\n",
       "</table>\n"
      ],
      "text/latex": [
       "\\begin{tabular}{r|llllllllllll}\n",
       " id & gender & age & hypertension & heart\\_disease & ever\\_married & work\\_type & Residence\\_type & avg\\_glucose\\_level & bmi & smoking\\_status & stroke\\\\\n",
       "\\hline\n",
       "\t  9046           & Male            & 67              & 0               & 1               & Yes             & Private         & Urban           & 228.69          & 36.6            & formerly smoked & 1              \\\\\n",
       "\t 51676           & Female          & 61              & 0               & 0               & Yes             & Self-employed   & Rural           & 202.21          & N/A             & never smoked    & 1              \\\\\n",
       "\t 31112           & Male            & 80              & 0               & 1               & Yes             & Private         & Rural           & 105.92          & 32.5            & never smoked    & 1              \\\\\n",
       "\t 60182           & Female          & 49              & 0               & 0               & Yes             & Private         & Urban           & 171.23          & 34.4            & smokes          & 1              \\\\\n",
       "\t  1665           & Female          & 79              & 1               & 0               & Yes             & Self-employed   & Rural           & 174.12          & 24              & never smoked    & 1              \\\\\n",
       "\t 56669           & Male            & 81              & 0               & 0               & Yes             & Private         & Urban           & 186.21          & 29              & formerly smoked & 1              \\\\\n",
       "\\end{tabular}\n"
      ],
      "text/markdown": [
       "\n",
       "| id | gender | age | hypertension | heart_disease | ever_married | work_type | Residence_type | avg_glucose_level | bmi | smoking_status | stroke |\n",
       "|---|---|---|---|---|---|---|---|---|---|---|---|\n",
       "|  9046           | Male            | 67              | 0               | 1               | Yes             | Private         | Urban           | 228.69          | 36.6            | formerly smoked | 1               |\n",
       "| 51676           | Female          | 61              | 0               | 0               | Yes             | Self-employed   | Rural           | 202.21          | N/A             | never smoked    | 1               |\n",
       "| 31112           | Male            | 80              | 0               | 1               | Yes             | Private         | Rural           | 105.92          | 32.5            | never smoked    | 1               |\n",
       "| 60182           | Female          | 49              | 0               | 0               | Yes             | Private         | Urban           | 171.23          | 34.4            | smokes          | 1               |\n",
       "|  1665           | Female          | 79              | 1               | 0               | Yes             | Self-employed   | Rural           | 174.12          | 24              | never smoked    | 1               |\n",
       "| 56669           | Male            | 81              | 0               | 0               | Yes             | Private         | Urban           | 186.21          | 29              | formerly smoked | 1               |\n",
       "\n"
      ],
      "text/plain": [
       "  id    gender age hypertension heart_disease ever_married work_type    \n",
       "1  9046 Male   67  0            1             Yes          Private      \n",
       "2 51676 Female 61  0            0             Yes          Self-employed\n",
       "3 31112 Male   80  0            1             Yes          Private      \n",
       "4 60182 Female 49  0            0             Yes          Private      \n",
       "5  1665 Female 79  1            0             Yes          Self-employed\n",
       "6 56669 Male   81  0            0             Yes          Private      \n",
       "  Residence_type avg_glucose_level bmi  smoking_status  stroke\n",
       "1 Urban          228.69            36.6 formerly smoked 1     \n",
       "2 Rural          202.21            N/A  never smoked    1     \n",
       "3 Rural          105.92            32.5 never smoked    1     \n",
       "4 Urban          171.23            34.4 smokes          1     \n",
       "5 Rural          174.12            24   never smoked    1     \n",
       "6 Urban          186.21            29   formerly smoked 1     "
      ]
     },
     "metadata": {},
     "output_type": "display_data"
    }
   ],
   "source": [
    "head(data)"
   ]
  },
  {
   "cell_type": "markdown",
   "id": "96a74845",
   "metadata": {},
   "source": [
    "## Genral info about the dataset:\n",
    "Among the 5110 objects in our dataset sample, 12 attributes are used to describe them.\n",
    "Our characteristics' values are utilized to identify their types, such as the nominal for id, binary for gender, and numeric for age.  \n",
    "Additionally, we had two attributes for hypertension and heart disease that took two values 1 and 0 to indicate whether they are sufferd from it or not, respectively. The last attribute, **\"stroke\"**, was described by two values 0 and 1 for the possibility of having a stroke or not as a result of analysis of the previous data, , which is what we aim to train our model to predict.\n"
   ]
  },
  {
   "cell_type": "markdown",
   "id": "8682b82b",
   "metadata": {},
   "source": [
    "## Data dictionary:"
   ]
  },
  {
   "cell_type": "markdown",
   "id": "4ba4bc2e",
   "metadata": {},
   "source": [
    "<table>\n",
    "<tr>\n",
    "    <th>Attribute Name</th>\n",
    "\t<th>Description</th>\n",
    "\t<th>Data Type</th> \n",
    "\t<th>Possible values</th> \n",
    "</tr>\n",
    "\n",
    "<tr>\n",
    "    <td>id</td> \n",
    "    <td>Unique id of the patient</td>\n",
    "\t<td>Nominal</td>\n",
    "\t<td>Range between 67-72940</td>\n",
    "\t\n",
    "</tr>\n",
    "\n",
    "<tr>\n",
    "    <td>gender</td> \n",
    "    <td>Gender of the patient</td>\n",
    "\t<td>Binary</td>\t\n",
    "    <td>Female <br> Male</td>   \n",
    "</tr>\n",
    "\n",
    "<tr>\n",
    "    <td>age</td>\n",
    "    <td>Age of the patient</td>\n",
    "\t<td>Numeric</td>\t\n",
    "    <td>Range between 0.08-82</td>   \n",
    "</tr>\n",
    "\n",
    "<tr>\n",
    "\t<td>hypertension</td>\n",
    "    <td>Hypertension binary feature, 1 means the patient has hypertension, 0 means they do not.</td> \n",
    "\t<td>Binary</td>\n",
    "    <td>0,1</td>   \n",
    "</tr>\n",
    "\n",
    "<tr>\n",
    "\t<td>heart_disease</td>\n",
    "    <td>Heart disease binary feature, 1 means the patient has heart disease, 0 means they do not.</td> \n",
    "\t<td>Binary</td>\n",
    "    <td>0,1</td>   \n",
    "</tr>\n",
    "\n",
    "<tr>\n",
    "\t<td>ever_married</td> \n",
    "    <td>Has the patient ever been married?</td> \n",
    "\t<td>Binary</td>\n",
    "    <td>Yes <br> No</td>   \n",
    "</tr>\n",
    "\n",
    "<tr>\n",
    "    <td>work_type</td> \n",
    "    <td>Work type of the patient</td> \n",
    "\t<td>Nominal</td>\n",
    "    <td>\"Private\" <br> \"Self-employed\" <br>\"children\" <br>\"Govt_job\" <br>\"Never_worked\"</td>\n",
    "    \n",
    "    \n",
    "    \n",
    "    \n",
    "    \n",
    "</tr>\n",
    "\n",
    "<tr>\n",
    "    <td>residence_type</td>\n",
    "    <td>Residence type of the patient</td> \n",
    "\t<td>Binary</td>\n",
    "    <td>\"Urban\" <br> \"Rural\"</td>   \n",
    "</tr>\n",
    "\n",
    "<tr>\n",
    "\t<td>avg_glucose_level</td>\n",
    "    <td>Average glucose level in blood</td> \n",
    "\t<td>Numeric</td>\n",
    "    <td>Range between 55.1-272</td>   \n",
    "</tr>\n",
    "\n",
    "<tr>\n",
    "\t<td>bmi</td>\n",
    "    <td>Body Mass Index</td> \n",
    "\t<td>Numeric</td>\n",
    "    <td> Range between 10.3-97.6 </td>   \n",
    "\n",
    "</tr>\n",
    "\n",
    "<tr>\n",
    "\t<td>smoking_status</td>\n",
    "    <td>Smoking status of the patient</td> \n",
    "    <td>Nominal</td>  \n",
    "\t<td>\"never smoked\" <br> \"Unknown\" <br> \"formerly smoked\" <br> \"smokes\"</td>\n",
    "\t\n",
    "</tr>\n",
    "\n",
    "<tr>\n",
    "\t<td>stroke</td>\n",
    "    <td>Stroke event, 1 means the patient had a stroke, 0 means not</td> \n",
    "    <td>Binary</td>  \n",
    "\t<td>0,1</td>\n",
    "\t\n",
    "</tr>\n",
    "\n",
    "</table>"
   ]
  },
  {
   "cell_type": "code",
   "execution_count": 3,
   "id": "3fd20bb8",
   "metadata": {
    "scrolled": false
   },
   "outputs": [
    {
     "name": "stdout",
     "output_type": "stream",
     "text": [
      "'data.frame':\t5110 obs. of  12 variables:\n",
      " $ id               : int  9046 51676 31112 60182 1665 56669 53882 10434 27419 60491 ...\n",
      " $ gender           : Factor w/ 3 levels \"Female\",\"Male\",..: 2 1 2 1 1 2 2 1 1 1 ...\n",
      " $ age              : num  67 61 80 49 79 81 74 69 59 78 ...\n",
      " $ hypertension     : int  0 0 0 0 1 0 1 0 0 0 ...\n",
      " $ heart_disease    : int  1 0 1 0 0 0 1 0 0 0 ...\n",
      " $ ever_married     : Factor w/ 2 levels \"No\",\"Yes\": 2 2 2 2 2 2 2 1 2 2 ...\n",
      " $ work_type        : Factor w/ 5 levels \"children\",\"Govt_job\",..: 4 5 4 4 5 4 4 4 4 4 ...\n",
      " $ Residence_type   : Factor w/ 2 levels \"Rural\",\"Urban\": 2 1 1 2 1 2 1 2 1 2 ...\n",
      " $ avg_glucose_level: num  229 202 106 171 174 ...\n",
      " $ bmi              : Factor w/ 419 levels \"10.3\",\"11.3\",..: 240 419 199 218 114 164 148 102 419 116 ...\n",
      " $ smoking_status   : Factor w/ 4 levels \"formerly smoked\",..: 1 2 2 3 2 1 2 2 4 4 ...\n",
      " $ stroke           : int  1 1 1 1 1 1 1 1 1 1 ...\n"
     ]
    }
   ],
   "source": [
    "str(data)"
   ]
  },
  {
   "cell_type": "code",
   "execution_count": 4,
   "id": "203da233",
   "metadata": {},
   "outputs": [
    {
     "data": {
      "text/html": [
       "5110"
      ],
      "text/latex": [
       "5110"
      ],
      "text/markdown": [
       "5110"
      ],
      "text/plain": [
       "[1] 5110"
      ]
     },
     "metadata": {},
     "output_type": "display_data"
    },
    {
     "data": {
      "text/html": [
       "12"
      ],
      "text/latex": [
       "12"
      ],
      "text/markdown": [
       "12"
      ],
      "text/plain": [
       "[1] 12"
      ]
     },
     "metadata": {},
     "output_type": "display_data"
    }
   ],
   "source": [
    "#Number of rows\n",
    "nrow(data)\n",
    "#Number of column\n",
    "ncol(data)"
   ]
  },
  {
   "cell_type": "code",
   "execution_count": 5,
   "id": "3e789e0a",
   "metadata": {},
   "outputs": [
    {
     "name": "stderr",
     "output_type": "stream",
     "text": [
      "Registered S3 methods overwritten by 'ggplot2':\n",
      "  method         from \n",
      "  [.quosures     rlang\n",
      "  c.quosures     rlang\n",
      "  print.quosures rlang\n",
      "Registered S3 method overwritten by 'rvest':\n",
      "  method            from\n",
      "  read_xml.response xml2\n",
      "-- Attaching packages --------------------------------------- tidyverse 1.2.1 --\n",
      "v ggplot2 3.1.1       v purrr   0.3.2  \n",
      "v tibble  2.1.1       v dplyr   0.8.0.1\n",
      "v tidyr   0.8.3       v stringr 1.4.0  \n",
      "v readr   1.3.1       v forcats 0.4.0  \n",
      "-- Conflicts ------------------------------------------ tidyverse_conflicts() --\n",
      "x dplyr::filter() masks stats::filter()\n",
      "x dplyr::lag()    masks stats::lag()\n",
      "\n",
      "Attaching package: 'lubridate'\n",
      "\n",
      "The following object is masked from 'package:base':\n",
      "\n",
      "    date\n",
      "\n",
      "\n",
      "Attaching package: 'magrittr'\n",
      "\n",
      "The following object is masked from 'package:purrr':\n",
      "\n",
      "    set_names\n",
      "\n",
      "The following object is masked from 'package:tidyr':\n",
      "\n",
      "    extract\n",
      "\n"
     ]
    },
    {
     "ename": "ERROR",
     "evalue": "Error in library(outliers): there is no package called 'outliers'\n",
     "output_type": "error",
     "traceback": [
      "Error in library(outliers): there is no package called 'outliers'\nTraceback:\n",
      "1. library(outliers)"
     ]
    }
   ],
   "source": [
    "# import necessary libraries\n",
    "library(tidyverse)\n",
    "library(lubridate)\n",
    "library(magrittr)\n",
    "library(dplyr)\n",
    "library(tidyr)\n",
    "library(readr)\n",
    "library(ggplot2)\n",
    "library(outliers)\n",
    "library(caret)\n",
    "\n",
    "\n",
    "#library(tidyverse)\n",
    "#library(lubridate)\n",
    "#-library(skimr)\n",
    "#-library(janitor)\n",
    "#library(dplyr)\n",
    "#library(tidyr)\n",
    "#library(readr)\n",
    "#library(ggplot2)\n",
    "#-library(gridExtra)"
   ]
  },
  {
   "cell_type": "code",
   "execution_count": null,
   "id": "78a62512",
   "metadata": {
    "scrolled": true
   },
   "outputs": [],
   "source": [
    "library(Hmisc)\n",
    "describe(data)"
   ]
  },
  {
   "cell_type": "code",
   "execution_count": null,
   "id": "1102a97f",
   "metadata": {
    "scrolled": true
   },
   "outputs": [],
   "source": [
    "#Five number summary:\n",
    "summary(data)"
   ]
  },
  {
   "cell_type": "code",
   "execution_count": null,
   "id": "a66c87ed",
   "metadata": {},
   "outputs": [],
   "source": [
    "library(dplyr)\n",
    "data %>% summarise_if(is.numeric, var)"
   ]
  },
  {
   "cell_type": "code",
   "execution_count": null,
   "id": "f2ce2dc1",
   "metadata": {},
   "outputs": [],
   "source": [
    "cor(data$age,data$avg_glucose_level)"
   ]
  },
  {
   "cell_type": "markdown",
   "id": "b7c234fe",
   "metadata": {},
   "source": [
    "## Understanding the data through graph representations:"
   ]
  },
  {
   "cell_type": "code",
   "execution_count": null,
   "id": "abc86869",
   "metadata": {},
   "outputs": [],
   "source": [
    "# check gender\n",
    "data <- data %>% filter(gender != \"Other\")\n",
    "ggplot(data, aes(x = gender, fill = as.factor(stroke))) +\n",
    "  geom_bar(position = \"fill\") +\n",
    "  labs(fill = \"STROKE\")"
   ]
  },
  {
   "cell_type": "code",
   "execution_count": null,
   "id": "982fac96",
   "metadata": {},
   "outputs": [],
   "source": [
    "tab <- data$work_type %>% table()\n",
    "precentages <- tab %>% prop.table() %>% round(3) * 100 \n",
    "txt <- paste0(names(tab), '\\n', precentages, '%') # text on chart\n",
    "pie(tab, labels=txt ,main= \"Chart of employement status\") # plot pie chart"
   ]
  },
  {
   "cell_type": "code",
   "execution_count": null,
   "id": "ae622eb2",
   "metadata": {},
   "outputs": [],
   "source": [
    "hist(data$age)"
   ]
  },
  {
   "cell_type": "code",
   "execution_count": null,
   "id": "52f07d71",
   "metadata": {},
   "outputs": [],
   "source": [
    "ggplot(data) + geom_point(mapping = aes(y = age, x = stroke, color = stroke ), alpha =0.9 )+ \n",
    "  labs(title = \"Distribution of Stroke status by age\" ) +\n",
    "  theme( plot.title = element_text(size = 14, face = \"bold\"), legend.position = \"none\", axis.line = element_line(size = 1), axis.ticks = element_line() )"
   ]
  },
  {
   "cell_type": "code",
   "execution_count": 6,
   "id": "8e223c61",
   "metadata": {},
   "outputs": [
    {
     "ename": "ERROR",
     "evalue": "Error in grid.arrange(a, b, ncol = 1): could not find function \"grid.arrange\"\n",
     "output_type": "error",
     "traceback": [
      "Error in grid.arrange(a, b, ncol = 1): could not find function \"grid.arrange\"\nTraceback:\n"
     ]
    }
   ],
   "source": [
    "a <- data %>% filter(heart_disease == 0 ) %>% group_by(stroke) %>% summarise(people = n()) %>% \n",
    "  mutate( total = sum(people), percentage = (people/total)) %>% \n",
    "  ggplot(mapping = aes(x=\"\", y = percentage, fill = stroke)) +\n",
    "  geom_col( width = 1) + coord_polar(theta = \"y\", start = 0, direction = 1) +\n",
    "  theme(  axis.ticks = element_blank(), panel.grid = element_blank(), axis.title = element_blank(), axis.text = element_blank(),plot.title = element_text(size = 14, face = \"bold\")) +\n",
    "  geom_text(aes(label = scales::percent(percentage)), color = \"White\", position = position_stack(vjust = 0.8)) + labs(title = \"Healthy heart Patients by stroke status\")+ scale_fill_manual(values = c(\"burlywood3\", \"slateblue3\"))\n",
    "\n",
    "# percentage of people with hearth disease who has had stroke and people who has not\n",
    "\n",
    "b <- data %>% filter(heart_disease == 1 ) %>% group_by(stroke) %>% summarise(people = n()) %>% \n",
    "  mutate( total = sum(people), percentage = (people/total)) %>% \n",
    "  ggplot(mapping = aes(x=\"\", y = percentage, fill = stroke)) +\n",
    "  geom_col( width = 1) + coord_polar(theta = \"y\", start = 0) + \n",
    "  theme(  axis.ticks = element_blank(), panel.grid = element_blank(), axis.text = element_blank(), axis.title = element_blank(),plot.title = element_text(size = 14, face = \"bold\")) + \n",
    "  geom_text(aes(label = scales::percent(percentage)), color = \"White\" , position = position_stack(vjust = 0.6))+ labs(title = \"Heart disease Patients by stroke status\") + scale_fill_manual(values = c(\"burlywood3\", \"slateblue3\"))\n",
    "\n",
    "# Viewing the two above charts together\n",
    "grid.arrange(a,b, ncol = 1)"
   ]
  },
  {
   "cell_type": "markdown",
   "id": "68ab32f8",
   "metadata": {},
   "source": [
    "# 4- Data Preprocessing:"
   ]
  },
  {
   "cell_type": "code",
   "execution_count": 7,
   "id": "00e022f6",
   "metadata": {},
   "outputs": [],
   "source": [
    "# Change \"N/A\" to actual NULL\n",
    "data$bmi[data$bmi==\"N/A\"] <-NA"
   ]
  },
  {
   "cell_type": "code",
   "execution_count": 8,
   "id": "886ba1f2",
   "metadata": {},
   "outputs": [
    {
     "data": {
      "text/html": [
       "201"
      ],
      "text/latex": [
       "201"
      ],
      "text/markdown": [
       "201"
      ],
      "text/plain": [
       "[1] 201"
      ]
     },
     "metadata": {},
     "output_type": "display_data"
    }
   ],
   "source": [
    "#Checking missing values\n",
    "sum(is.na(data))"
   ]
  },
  {
   "cell_type": "code",
   "execution_count": 9,
   "id": "9a8cc69f",
   "metadata": {},
   "outputs": [
    {
     "data": {
      "text/html": [
       "0"
      ],
      "text/latex": [
       "0"
      ],
      "text/markdown": [
       "0"
      ],
      "text/plain": [
       "[1] 0"
      ]
     },
     "metadata": {},
     "output_type": "display_data"
    }
   ],
   "source": [
    "#Checking duplicated rows\n",
    "sum(duplicated(data))"
   ]
  },
  {
   "cell_type": "code",
   "execution_count": 10,
   "id": "8bde3881",
   "metadata": {},
   "outputs": [],
   "source": [
    "#Converting bmi to numeric\n",
    "data$bmi <- as.numeric(data$bmi)"
   ]
  },
  {
   "cell_type": "code",
   "execution_count": 11,
   "id": "9b4ccd6c",
   "metadata": {},
   "outputs": [
    {
     "data": {
      "text/html": [
       "'numeric'"
      ],
      "text/latex": [
       "'numeric'"
      ],
      "text/markdown": [
       "'numeric'"
      ],
      "text/plain": [
       "[1] \"numeric\""
      ]
     },
     "metadata": {},
     "output_type": "display_data"
    }
   ],
   "source": [
    "class(data$bmi)"
   ]
  },
  {
   "cell_type": "code",
   "execution_count": 12,
   "id": "6e8fbb04",
   "metadata": {},
   "outputs": [],
   "source": [
    "#Replacing null values with the mean\n",
    "data$bmi[is.na(data$bmi)]<-mean(data$bmi, na.rm = TRUE)"
   ]
  },
  {
   "cell_type": "code",
   "execution_count": 13,
   "id": "4d07dd75",
   "metadata": {},
   "outputs": [
    {
     "data": {
      "text/html": [
       "0"
      ],
      "text/latex": [
       "0"
      ],
      "text/markdown": [
       "0"
      ],
      "text/plain": [
       "[1] 0"
      ]
     },
     "metadata": {},
     "output_type": "display_data"
    }
   ],
   "source": [
    "#Missing values\n",
    "sum(is.na(data))"
   ]
  },
  {
   "cell_type": "code",
   "execution_count": 14,
   "id": "1c9e7c55",
   "metadata": {},
   "outputs": [
    {
     "data": {
      "text/html": [
       "<table>\n",
       "<thead><tr><th></th><th scope=col>id</th><th scope=col>gender</th><th scope=col>age</th><th scope=col>hypertension</th><th scope=col>heart_disease</th><th scope=col>ever_married</th><th scope=col>work_type</th><th scope=col>Residence_type</th><th scope=col>avg_glucose_level</th><th scope=col>bmi</th><th scope=col>smoking_status</th><th scope=col>stroke</th></tr></thead>\n",
       "<tbody>\n",
       "\t<tr><th scope=row>3117</th><td>56156          </td><td>Other          </td><td>26             </td><td>0              </td><td>0              </td><td>No             </td><td>Private        </td><td>Rural          </td><td>143.33         </td><td>98             </td><td>formerly smoked</td><td>0              </td></tr>\n",
       "</tbody>\n",
       "</table>\n"
      ],
      "text/latex": [
       "\\begin{tabular}{r|llllllllllll}\n",
       "  & id & gender & age & hypertension & heart\\_disease & ever\\_married & work\\_type & Residence\\_type & avg\\_glucose\\_level & bmi & smoking\\_status & stroke\\\\\n",
       "\\hline\n",
       "\t3117 & 56156           & Other           & 26              & 0               & 0               & No              & Private         & Rural           & 143.33          & 98              & formerly smoked & 0              \\\\\n",
       "\\end{tabular}\n"
      ],
      "text/markdown": [
       "\n",
       "| <!--/--> | id | gender | age | hypertension | heart_disease | ever_married | work_type | Residence_type | avg_glucose_level | bmi | smoking_status | stroke |\n",
       "|---|---|---|---|---|---|---|---|---|---|---|---|---|\n",
       "| 3117 | 56156           | Other           | 26              | 0               | 0               | No              | Private         | Rural           | 143.33          | 98              | formerly smoked | 0               |\n",
       "\n"
      ],
      "text/plain": [
       "     id    gender age hypertension heart_disease ever_married work_type\n",
       "3117 56156 Other  26  0            0             No           Private  \n",
       "     Residence_type avg_glucose_level bmi smoking_status  stroke\n",
       "3117 Rural          143.33            98  formerly smoked 0     "
      ]
     },
     "metadata": {},
     "output_type": "display_data"
    }
   ],
   "source": [
    "#only one column with Gender \"Other\" \n",
    "data[data$gender==\"Other\", ]\n",
    "\n",
    "# delete it \n",
    "data = data[data$gender!=\"Other\", ]"
   ]
  },
  {
   "cell_type": "code",
   "execution_count": 15,
   "id": "da84de1d",
   "metadata": {},
   "outputs": [
    {
     "data": {
      "text/plain": [
       "\n",
       "Female   Male  Other \n",
       "  2994   2115      0 "
      ]
     },
     "metadata": {},
     "output_type": "display_data"
    }
   ],
   "source": [
    "table(data$gender)"
   ]
  },
  {
   "cell_type": "code",
   "execution_count": 16,
   "id": "aaf13c6a",
   "metadata": {},
   "outputs": [
    {
     "ename": "ERROR",
     "evalue": "Error in outlier(data$age, logical = TRUE): could not find function \"outlier\"\n",
     "output_type": "error",
     "traceback": [
      "Error in outlier(data$age, logical = TRUE): could not find function \"outlier\"\nTraceback:\n"
     ]
    }
   ],
   "source": [
    "OutAge = outlier(data$age, logical =TRUE)\n",
    "sum(OutAge)\n",
    "boxplot(data$age,main=\"Average age\")"
   ]
  },
  {
   "cell_type": "code",
   "execution_count": 17,
   "id": "643e6243",
   "metadata": {},
   "outputs": [
    {
     "ename": "ERROR",
     "evalue": "Error in outlier(data$avg_glucose_level, logical = TRUE): could not find function \"outlier\"\n",
     "output_type": "error",
     "traceback": [
      "Error in outlier(data$avg_glucose_level, logical = TRUE): could not find function \"outlier\"\nTraceback:\n"
     ]
    }
   ],
   "source": [
    "OutAvgGlucLevel = outlier(data$avg_glucose_level, logical =TRUE)\n",
    "sum(OutAvgGlucLevel)\n",
    "boxplot(data$avg_glucose_level,main=\"Average Glucose Level\")"
   ]
  },
  {
   "cell_type": "code",
   "execution_count": 18,
   "id": "6fdeb99f",
   "metadata": {},
   "outputs": [
    {
     "ename": "ERROR",
     "evalue": "Error in outlier(data$bmi, logical = TRUE): could not find function \"outlier\"\n",
     "output_type": "error",
     "traceback": [
      "Error in outlier(data$bmi, logical = TRUE): could not find function \"outlier\"\nTraceback:\n"
     ]
    }
   ],
   "source": [
    "OutBMI = outlier(data$bmi, logical =TRUE)\n",
    "sum(OutBMI)\n",
    "boxplot(data$bmi,main=\"Average bmi Level\")"
   ]
  },
  {
   "cell_type": "markdown",
   "id": "13428f01",
   "metadata": {},
   "source": [
    "## Encoding categorical data:"
   ]
  },
  {
   "cell_type": "code",
   "execution_count": 19,
   "id": "0504a53f",
   "metadata": {
    "scrolled": true
   },
   "outputs": [
    {
     "data": {
      "text/html": [
       "<table>\n",
       "<thead><tr><th scope=col>id</th><th scope=col>gender</th><th scope=col>age</th><th scope=col>hypertension</th><th scope=col>heart_disease</th><th scope=col>ever_married</th><th scope=col>work_type</th><th scope=col>Residence_type</th><th scope=col>avg_glucose_level</th><th scope=col>bmi</th><th scope=col>smoking_status</th><th scope=col>stroke</th></tr></thead>\n",
       "<tbody>\n",
       "\t<tr><td> 9046          </td><td>Male           </td><td>67             </td><td>0              </td><td>1              </td><td>Yes            </td><td>Private        </td><td>Urban          </td><td>228.69         </td><td>240.000        </td><td>formerly smoked</td><td>1              </td></tr>\n",
       "\t<tr><td>51676          </td><td>Female         </td><td>61             </td><td>0              </td><td>0              </td><td>Yes            </td><td>Self-employed  </td><td>Rural          </td><td>202.21         </td><td>162.089        </td><td>never smoked   </td><td>1              </td></tr>\n",
       "\t<tr><td>31112          </td><td>Male           </td><td>80             </td><td>0              </td><td>1              </td><td>Yes            </td><td>Private        </td><td>Rural          </td><td>105.92         </td><td>199.000        </td><td>never smoked   </td><td>1              </td></tr>\n",
       "\t<tr><td>60182          </td><td>Female         </td><td>49             </td><td>0              </td><td>0              </td><td>Yes            </td><td>Private        </td><td>Urban          </td><td>171.23         </td><td>218.000        </td><td>smokes         </td><td>1              </td></tr>\n",
       "\t<tr><td> 1665          </td><td>Female         </td><td>79             </td><td>1              </td><td>0              </td><td>Yes            </td><td>Self-employed  </td><td>Rural          </td><td>174.12         </td><td>114.000        </td><td>never smoked   </td><td>1              </td></tr>\n",
       "\t<tr><td>56669          </td><td>Male           </td><td>81             </td><td>0              </td><td>0              </td><td>Yes            </td><td>Private        </td><td>Urban          </td><td>186.21         </td><td>164.000        </td><td>formerly smoked</td><td>1              </td></tr>\n",
       "</tbody>\n",
       "</table>\n"
      ],
      "text/latex": [
       "\\begin{tabular}{r|llllllllllll}\n",
       " id & gender & age & hypertension & heart\\_disease & ever\\_married & work\\_type & Residence\\_type & avg\\_glucose\\_level & bmi & smoking\\_status & stroke\\\\\n",
       "\\hline\n",
       "\t  9046           & Male            & 67              & 0               & 1               & Yes             & Private         & Urban           & 228.69          & 240.000         & formerly smoked & 1              \\\\\n",
       "\t 51676           & Female          & 61              & 0               & 0               & Yes             & Self-employed   & Rural           & 202.21          & 162.089         & never smoked    & 1              \\\\\n",
       "\t 31112           & Male            & 80              & 0               & 1               & Yes             & Private         & Rural           & 105.92          & 199.000         & never smoked    & 1              \\\\\n",
       "\t 60182           & Female          & 49              & 0               & 0               & Yes             & Private         & Urban           & 171.23          & 218.000         & smokes          & 1              \\\\\n",
       "\t  1665           & Female          & 79              & 1               & 0               & Yes             & Self-employed   & Rural           & 174.12          & 114.000         & never smoked    & 1              \\\\\n",
       "\t 56669           & Male            & 81              & 0               & 0               & Yes             & Private         & Urban           & 186.21          & 164.000         & formerly smoked & 1              \\\\\n",
       "\\end{tabular}\n"
      ],
      "text/markdown": [
       "\n",
       "| id | gender | age | hypertension | heart_disease | ever_married | work_type | Residence_type | avg_glucose_level | bmi | smoking_status | stroke |\n",
       "|---|---|---|---|---|---|---|---|---|---|---|---|\n",
       "|  9046           | Male            | 67              | 0               | 1               | Yes             | Private         | Urban           | 228.69          | 240.000         | formerly smoked | 1               |\n",
       "| 51676           | Female          | 61              | 0               | 0               | Yes             | Self-employed   | Rural           | 202.21          | 162.089         | never smoked    | 1               |\n",
       "| 31112           | Male            | 80              | 0               | 1               | Yes             | Private         | Rural           | 105.92          | 199.000         | never smoked    | 1               |\n",
       "| 60182           | Female          | 49              | 0               | 0               | Yes             | Private         | Urban           | 171.23          | 218.000         | smokes          | 1               |\n",
       "|  1665           | Female          | 79              | 1               | 0               | Yes             | Self-employed   | Rural           | 174.12          | 114.000         | never smoked    | 1               |\n",
       "| 56669           | Male            | 81              | 0               | 0               | Yes             | Private         | Urban           | 186.21          | 164.000         | formerly smoked | 1               |\n",
       "\n"
      ],
      "text/plain": [
       "  id    gender age hypertension heart_disease ever_married work_type    \n",
       "1  9046 Male   67  0            1             Yes          Private      \n",
       "2 51676 Female 61  0            0             Yes          Self-employed\n",
       "3 31112 Male   80  0            1             Yes          Private      \n",
       "4 60182 Female 49  0            0             Yes          Private      \n",
       "5  1665 Female 79  1            0             Yes          Self-employed\n",
       "6 56669 Male   81  0            0             Yes          Private      \n",
       "  Residence_type avg_glucose_level bmi     smoking_status  stroke\n",
       "1 Urban          228.69            240.000 formerly smoked 1     \n",
       "2 Rural          202.21            162.089 never smoked    1     \n",
       "3 Rural          105.92            199.000 never smoked    1     \n",
       "4 Urban          171.23            218.000 smokes          1     \n",
       "5 Rural          174.12            114.000 never smoked    1     \n",
       "6 Urban          186.21            164.000 formerly smoked 1     "
      ]
     },
     "metadata": {},
     "output_type": "display_data"
    }
   ],
   "source": [
    "head(data)"
   ]
  },
  {
   "cell_type": "code",
   "execution_count": 20,
   "id": "8b62edba",
   "metadata": {},
   "outputs": [],
   "source": [
    "data$work_type = factor(data$work_type,levels = c(\"Govt_job\",\"Private\", \"Self-employed\"\n",
    ",\"children\",\"Never_worked\"), labels = c(5,4,3,2,1))"
   ]
  },
  {
   "cell_type": "code",
   "execution_count": 21,
   "id": "902499b7",
   "metadata": {},
   "outputs": [],
   "source": [
    "data$gender = factor(data$gender, levels = c(\"Male\", \"Female\"), labels = c(1, 2))"
   ]
  },
  {
   "cell_type": "code",
   "execution_count": 22,
   "id": "30b6dc3f",
   "metadata": {},
   "outputs": [],
   "source": [
    "data$ever_married= factor(data$ever_married, levels = c(\"No\", \"Yes\"), labels = c(0, 1))"
   ]
  },
  {
   "cell_type": "code",
   "execution_count": 23,
   "id": "09aa18c2",
   "metadata": {},
   "outputs": [],
   "source": [
    "data$Residence_type= factor(data$Residence_type, levels = c(\"Urban\", \"Rural\"), labels = c(1, 2))"
   ]
  },
  {
   "cell_type": "code",
   "execution_count": 24,
   "id": "673ee11f",
   "metadata": {},
   "outputs": [],
   "source": [
    "data$smoking_status= factor(data$smoking_status, levels = c(\"Unknown\",\"never smoked\", \"formerly smoked\",\"smokes\"), labels = c(1,2,3,4))"
   ]
  },
  {
   "cell_type": "code",
   "execution_count": 25,
   "id": "86c3604f",
   "metadata": {},
   "outputs": [
    {
     "data": {
      "text/html": [
       "<table>\n",
       "<thead><tr><th scope=col>id</th><th scope=col>gender</th><th scope=col>age</th><th scope=col>hypertension</th><th scope=col>heart_disease</th><th scope=col>ever_married</th><th scope=col>work_type</th><th scope=col>Residence_type</th><th scope=col>avg_glucose_level</th><th scope=col>bmi</th><th scope=col>smoking_status</th><th scope=col>stroke</th></tr></thead>\n",
       "<tbody>\n",
       "\t<tr><td> 9046  </td><td>1      </td><td>67     </td><td>0      </td><td>1      </td><td>1      </td><td>4      </td><td>1      </td><td>228.69 </td><td>240.000</td><td>3      </td><td>1      </td></tr>\n",
       "\t<tr><td>51676  </td><td>2      </td><td>61     </td><td>0      </td><td>0      </td><td>1      </td><td>3      </td><td>2      </td><td>202.21 </td><td>162.089</td><td>2      </td><td>1      </td></tr>\n",
       "\t<tr><td>31112  </td><td>1      </td><td>80     </td><td>0      </td><td>1      </td><td>1      </td><td>4      </td><td>2      </td><td>105.92 </td><td>199.000</td><td>2      </td><td>1      </td></tr>\n",
       "\t<tr><td>60182  </td><td>2      </td><td>49     </td><td>0      </td><td>0      </td><td>1      </td><td>4      </td><td>1      </td><td>171.23 </td><td>218.000</td><td>4      </td><td>1      </td></tr>\n",
       "\t<tr><td> 1665  </td><td>2      </td><td>79     </td><td>1      </td><td>0      </td><td>1      </td><td>3      </td><td>2      </td><td>174.12 </td><td>114.000</td><td>2      </td><td>1      </td></tr>\n",
       "\t<tr><td>56669  </td><td>1      </td><td>81     </td><td>0      </td><td>0      </td><td>1      </td><td>4      </td><td>1      </td><td>186.21 </td><td>164.000</td><td>3      </td><td>1      </td></tr>\n",
       "</tbody>\n",
       "</table>\n"
      ],
      "text/latex": [
       "\\begin{tabular}{r|llllllllllll}\n",
       " id & gender & age & hypertension & heart\\_disease & ever\\_married & work\\_type & Residence\\_type & avg\\_glucose\\_level & bmi & smoking\\_status & stroke\\\\\n",
       "\\hline\n",
       "\t  9046   & 1       & 67      & 0       & 1       & 1       & 4       & 1       & 228.69  & 240.000 & 3       & 1      \\\\\n",
       "\t 51676   & 2       & 61      & 0       & 0       & 1       & 3       & 2       & 202.21  & 162.089 & 2       & 1      \\\\\n",
       "\t 31112   & 1       & 80      & 0       & 1       & 1       & 4       & 2       & 105.92  & 199.000 & 2       & 1      \\\\\n",
       "\t 60182   & 2       & 49      & 0       & 0       & 1       & 4       & 1       & 171.23  & 218.000 & 4       & 1      \\\\\n",
       "\t  1665   & 2       & 79      & 1       & 0       & 1       & 3       & 2       & 174.12  & 114.000 & 2       & 1      \\\\\n",
       "\t 56669   & 1       & 81      & 0       & 0       & 1       & 4       & 1       & 186.21  & 164.000 & 3       & 1      \\\\\n",
       "\\end{tabular}\n"
      ],
      "text/markdown": [
       "\n",
       "| id | gender | age | hypertension | heart_disease | ever_married | work_type | Residence_type | avg_glucose_level | bmi | smoking_status | stroke |\n",
       "|---|---|---|---|---|---|---|---|---|---|---|---|\n",
       "|  9046   | 1       | 67      | 0       | 1       | 1       | 4       | 1       | 228.69  | 240.000 | 3       | 1       |\n",
       "| 51676   | 2       | 61      | 0       | 0       | 1       | 3       | 2       | 202.21  | 162.089 | 2       | 1       |\n",
       "| 31112   | 1       | 80      | 0       | 1       | 1       | 4       | 2       | 105.92  | 199.000 | 2       | 1       |\n",
       "| 60182   | 2       | 49      | 0       | 0       | 1       | 4       | 1       | 171.23  | 218.000 | 4       | 1       |\n",
       "|  1665   | 2       | 79      | 1       | 0       | 1       | 3       | 2       | 174.12  | 114.000 | 2       | 1       |\n",
       "| 56669   | 1       | 81      | 0       | 0       | 1       | 4       | 1       | 186.21  | 164.000 | 3       | 1       |\n",
       "\n"
      ],
      "text/plain": [
       "  id    gender age hypertension heart_disease ever_married work_type\n",
       "1  9046 1      67  0            1             1            4        \n",
       "2 51676 2      61  0            0             1            3        \n",
       "3 31112 1      80  0            1             1            4        \n",
       "4 60182 2      49  0            0             1            4        \n",
       "5  1665 2      79  1            0             1            3        \n",
       "6 56669 1      81  0            0             1            4        \n",
       "  Residence_type avg_glucose_level bmi     smoking_status stroke\n",
       "1 1              228.69            240.000 3              1     \n",
       "2 2              202.21            162.089 2              1     \n",
       "3 2              105.92            199.000 2              1     \n",
       "4 1              171.23            218.000 4              1     \n",
       "5 2              174.12            114.000 2              1     \n",
       "6 1              186.21            164.000 3              1     "
      ]
     },
     "metadata": {},
     "output_type": "display_data"
    }
   ],
   "source": [
    "head(data)"
   ]
  },
  {
   "cell_type": "markdown",
   "id": "71c48d00",
   "metadata": {},
   "source": [
    " ## Normalize Data using Min-Max Scaling:\n",
    " "
   ]
  },
  {
   "cell_type": "code",
   "execution_count": 26,
   "id": "3fc021ce",
   "metadata": {},
   "outputs": [
    {
     "data": {
      "text/html": [
       "<table>\n",
       "<thead><tr><th scope=col>id</th><th scope=col>gender</th><th scope=col>age</th><th scope=col>hypertension</th><th scope=col>heart_disease</th><th scope=col>ever_married</th><th scope=col>work_type</th><th scope=col>Residence_type</th><th scope=col>avg_glucose_level</th><th scope=col>bmi</th><th scope=col>smoking_status</th><th scope=col>stroke</th></tr></thead>\n",
       "<tbody>\n",
       "\t<tr><td> 9046    </td><td>1        </td><td>0.8168945</td><td>0        </td><td>1        </td><td>1        </td><td>4        </td><td>1        </td><td>0.8012649</td><td>0.8168945</td><td>3        </td><td>1        </td></tr>\n",
       "\t<tr><td>51676    </td><td>2        </td><td>0.7436523</td><td>0        </td><td>0        </td><td>1        </td><td>3        </td><td>2        </td><td>0.6790232</td><td>0.7436523</td><td>2        </td><td>1        </td></tr>\n",
       "\t<tr><td>31112    </td><td>1        </td><td>0.9755859</td><td>0        </td><td>1        </td><td>1        </td><td>4        </td><td>2        </td><td>0.2345120</td><td>0.9755859</td><td>2        </td><td>1        </td></tr>\n",
       "\t<tr><td>60182    </td><td>2        </td><td>0.5971680</td><td>0        </td><td>0        </td><td>1        </td><td>4        </td><td>1        </td><td>0.5360078</td><td>0.5971680</td><td>4        </td><td>1        </td></tr>\n",
       "\t<tr><td> 1665    </td><td>2        </td><td>0.9633789</td><td>1        </td><td>0        </td><td>1        </td><td>3        </td><td>2        </td><td>0.5493491</td><td>0.9633789</td><td>2        </td><td>1        </td></tr>\n",
       "\t<tr><td>56669    </td><td>1        </td><td>0.9877930</td><td>0        </td><td>0        </td><td>1        </td><td>4        </td><td>1        </td><td>0.6051611</td><td>0.9877930</td><td>3        </td><td>1        </td></tr>\n",
       "</tbody>\n",
       "</table>\n"
      ],
      "text/latex": [
       "\\begin{tabular}{r|llllllllllll}\n",
       " id & gender & age & hypertension & heart\\_disease & ever\\_married & work\\_type & Residence\\_type & avg\\_glucose\\_level & bmi & smoking\\_status & stroke\\\\\n",
       "\\hline\n",
       "\t  9046     & 1         & 0.8168945 & 0         & 1         & 1         & 4         & 1         & 0.8012649 & 0.8168945 & 3         & 1        \\\\\n",
       "\t 51676     & 2         & 0.7436523 & 0         & 0         & 1         & 3         & 2         & 0.6790232 & 0.7436523 & 2         & 1        \\\\\n",
       "\t 31112     & 1         & 0.9755859 & 0         & 1         & 1         & 4         & 2         & 0.2345120 & 0.9755859 & 2         & 1        \\\\\n",
       "\t 60182     & 2         & 0.5971680 & 0         & 0         & 1         & 4         & 1         & 0.5360078 & 0.5971680 & 4         & 1        \\\\\n",
       "\t  1665     & 2         & 0.9633789 & 1         & 0         & 1         & 3         & 2         & 0.5493491 & 0.9633789 & 2         & 1        \\\\\n",
       "\t 56669     & 1         & 0.9877930 & 0         & 0         & 1         & 4         & 1         & 0.6051611 & 0.9877930 & 3         & 1        \\\\\n",
       "\\end{tabular}\n"
      ],
      "text/markdown": [
       "\n",
       "| id | gender | age | hypertension | heart_disease | ever_married | work_type | Residence_type | avg_glucose_level | bmi | smoking_status | stroke |\n",
       "|---|---|---|---|---|---|---|---|---|---|---|---|\n",
       "|  9046     | 1         | 0.8168945 | 0         | 1         | 1         | 4         | 1         | 0.8012649 | 0.8168945 | 3         | 1         |\n",
       "| 51676     | 2         | 0.7436523 | 0         | 0         | 1         | 3         | 2         | 0.6790232 | 0.7436523 | 2         | 1         |\n",
       "| 31112     | 1         | 0.9755859 | 0         | 1         | 1         | 4         | 2         | 0.2345120 | 0.9755859 | 2         | 1         |\n",
       "| 60182     | 2         | 0.5971680 | 0         | 0         | 1         | 4         | 1         | 0.5360078 | 0.5971680 | 4         | 1         |\n",
       "|  1665     | 2         | 0.9633789 | 1         | 0         | 1         | 3         | 2         | 0.5493491 | 0.9633789 | 2         | 1         |\n",
       "| 56669     | 1         | 0.9877930 | 0         | 0         | 1         | 4         | 1         | 0.6051611 | 0.9877930 | 3         | 1         |\n",
       "\n"
      ],
      "text/plain": [
       "  id    gender age       hypertension heart_disease ever_married work_type\n",
       "1  9046 1      0.8168945 0            1             1            4        \n",
       "2 51676 2      0.7436523 0            0             1            3        \n",
       "3 31112 1      0.9755859 0            1             1            4        \n",
       "4 60182 2      0.5971680 0            0             1            4        \n",
       "5  1665 2      0.9633789 1            0             1            3        \n",
       "6 56669 1      0.9877930 0            0             1            4        \n",
       "  Residence_type avg_glucose_level bmi       smoking_status stroke\n",
       "1 1              0.8012649         0.8168945 3              1     \n",
       "2 2              0.6790232         0.7436523 2              1     \n",
       "3 2              0.2345120         0.9755859 2              1     \n",
       "4 1              0.5360078         0.5971680 4              1     \n",
       "5 2              0.5493491         0.9633789 2              1     \n",
       "6 1              0.6051611         0.9877930 3              1     "
      ]
     },
     "metadata": {},
     "output_type": "display_data"
    }
   ],
   "source": [
    "normalize <- function(x)\n",
    "{\n",
    " return ((x - min(x))/ (max(x)- min(x)))   \n",
    "}\n",
    "\n",
    "data$avg_glucose_level= normalize(data$avg_glucose_level)\n",
    "data$age= normalize(data$age)\n",
    "data$bmi= normalize(data$age)\n",
    "head(data)\n"
   ]
  },
  {
   "cell_type": "markdown",
   "id": "5c11460e",
   "metadata": {},
   "source": [
    "## discretization"
   ]
  },
  {
   "cell_type": "markdown",
   "id": "271fe00f",
   "metadata": {},
   "source": [
    "After the process of normalizing and cleaning the data, it is found that there is no requirement for feature discretization."
   ]
  },
  {
   "cell_type": "markdown",
   "id": "358c9de6",
   "metadata": {},
   "source": [
    "## feature selection"
   ]
  },
  {
   "cell_type": "markdown",
   "id": "b416b66c",
   "metadata": {},
   "source": [
    "Since all the columns are significant and will contribute to training the model, we have decided not to remove them, except for the identity column as it is not useful for prediction purposes."
   ]
  },
  {
   "cell_type": "code",
   "execution_count": 27,
   "id": "de55a1fd",
   "metadata": {},
   "outputs": [],
   "source": [
    "#delete id coloumn"
   ]
  },
  {
   "cell_type": "markdown",
   "id": "4244ac6e",
   "metadata": {},
   "source": [
    "# imbalanced dataset problem:\n"
   ]
  },
  {
   "cell_type": "markdown",
   "id": "6186ea6f",
   "metadata": {},
   "source": [
    "In the given dataset, it is observed that only around 5% of all the individuals have experienced a stroke at some point. Consequently, our baseline dummy model achieves an accuracy of 95% by consistently predicting that individuals do not have a stroke. When evaluating our model, an essential metric to consider is sensitivity, also known as recall or the probability of detection. Low sensitivity indicates that our model struggles to identify true positive cases, even if the overall accuracy is high. In this case, the dummy model has a sensitivity of 0 since it fails to identify any true positives.\n",
    "\n",
    "Addressing the class imbalance issue, there are various approaches available. Considering the limited size of the dataset, oversampling the minority class is deemed the most suitable strategy. By oversampling, we increase the representation of the minority class instances, enabling the model to learn and generalize better for this class."
   ]
  },
  {
   "cell_type": "code",
   "execution_count": null,
   "id": "d03694de",
   "metadata": {},
   "outputs": [],
   "source": []
  },
  {
   "cell_type": "code",
   "execution_count": null,
   "id": "9b4f4a01",
   "metadata": {},
   "outputs": [],
   "source": []
  },
  {
   "cell_type": "code",
   "execution_count": null,
   "id": "57de8c17",
   "metadata": {},
   "outputs": [],
   "source": []
  }
 ],
 "metadata": {
  "kernelspec": {
   "display_name": "R",
   "language": "R",
   "name": "ir"
  },
  "language_info": {
   "codemirror_mode": "r",
   "file_extension": ".r",
   "mimetype": "text/x-r-source",
   "name": "R",
   "pygments_lexer": "r",
   "version": "3.6.1"
  }
 },
 "nbformat": 4,
 "nbformat_minor": 5
}
